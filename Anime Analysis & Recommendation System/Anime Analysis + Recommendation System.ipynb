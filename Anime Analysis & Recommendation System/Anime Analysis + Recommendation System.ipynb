{
 "cells": [
  {
   "cell_type": "code",
   "execution_count": 1,
   "id": "58dc7aee",
   "metadata": {},
   "outputs": [],
   "source": [
    "import numpy as np, pandas as pd\n",
    "import matplotlib.pyplot as plt\n",
    "import seaborn as sns\n",
    "\n",
    "plt.rcParams.update({'figure.figsize': (7,3), 'figure.dpi': 120})"
   ]
  },
  {
   "cell_type": "code",
   "execution_count": 2,
   "id": "df97deac",
   "metadata": {},
   "outputs": [],
   "source": [
    "df_anime = pd.read_csv(r'https://raw.githubusercontent.com/baothanhquach1661/DataSet/main/anime.csv')\n",
    "df_rating = pd.read_csv(r'https://raw.githubusercontent.com/baothanhquach1661/DataSet/main/rating.csv')"
   ]
  },
  {
   "cell_type": "markdown",
   "id": "a95fd748",
   "metadata": {},
   "source": [
    "## Data Loading"
   ]
  },
  {
   "cell_type": "code",
   "execution_count": 3,
   "id": "4bff64b6",
   "metadata": {},
   "outputs": [
    {
     "data": {
      "text/html": [
       "<div>\n",
       "<style scoped>\n",
       "    .dataframe tbody tr th:only-of-type {\n",
       "        vertical-align: middle;\n",
       "    }\n",
       "\n",
       "    .dataframe tbody tr th {\n",
       "        vertical-align: top;\n",
       "    }\n",
       "\n",
       "    .dataframe thead th {\n",
       "        text-align: right;\n",
       "    }\n",
       "</style>\n",
       "<table border=\"1\" class=\"dataframe\">\n",
       "  <thead>\n",
       "    <tr style=\"text-align: right;\">\n",
       "      <th></th>\n",
       "      <th>anime_id</th>\n",
       "      <th>name</th>\n",
       "      <th>genre</th>\n",
       "      <th>type</th>\n",
       "      <th>episodes</th>\n",
       "      <th>rating</th>\n",
       "      <th>members</th>\n",
       "    </tr>\n",
       "  </thead>\n",
       "  <tbody>\n",
       "    <tr>\n",
       "      <th>0</th>\n",
       "      <td>32281</td>\n",
       "      <td>Kimi no Na wa.</td>\n",
       "      <td>Drama, Romance, School, Supernatural</td>\n",
       "      <td>Movie</td>\n",
       "      <td>1</td>\n",
       "      <td>9.37</td>\n",
       "      <td>200630</td>\n",
       "    </tr>\n",
       "    <tr>\n",
       "      <th>1</th>\n",
       "      <td>5114</td>\n",
       "      <td>Fullmetal Alchemist: Brotherhood</td>\n",
       "      <td>Action, Adventure, Drama, Fantasy, Magic, Mili...</td>\n",
       "      <td>TV</td>\n",
       "      <td>64</td>\n",
       "      <td>9.26</td>\n",
       "      <td>793665</td>\n",
       "    </tr>\n",
       "    <tr>\n",
       "      <th>2</th>\n",
       "      <td>28977</td>\n",
       "      <td>Gintama°</td>\n",
       "      <td>Action, Comedy, Historical, Parody, Samurai, S...</td>\n",
       "      <td>TV</td>\n",
       "      <td>51</td>\n",
       "      <td>9.25</td>\n",
       "      <td>114262</td>\n",
       "    </tr>\n",
       "    <tr>\n",
       "      <th>3</th>\n",
       "      <td>9253</td>\n",
       "      <td>Steins;Gate</td>\n",
       "      <td>Sci-Fi, Thriller</td>\n",
       "      <td>TV</td>\n",
       "      <td>24</td>\n",
       "      <td>9.17</td>\n",
       "      <td>673572</td>\n",
       "    </tr>\n",
       "    <tr>\n",
       "      <th>4</th>\n",
       "      <td>9969</td>\n",
       "      <td>Gintama&amp;#039;</td>\n",
       "      <td>Action, Comedy, Historical, Parody, Samurai, S...</td>\n",
       "      <td>TV</td>\n",
       "      <td>51</td>\n",
       "      <td>9.16</td>\n",
       "      <td>151266</td>\n",
       "    </tr>\n",
       "  </tbody>\n",
       "</table>\n",
       "</div>"
      ],
      "text/plain": [
       "   anime_id                              name  \\\n",
       "0     32281                    Kimi no Na wa.   \n",
       "1      5114  Fullmetal Alchemist: Brotherhood   \n",
       "2     28977                          Gintama°   \n",
       "3      9253                       Steins;Gate   \n",
       "4      9969                     Gintama&#039;   \n",
       "\n",
       "                                               genre   type episodes  rating  \\\n",
       "0               Drama, Romance, School, Supernatural  Movie        1    9.37   \n",
       "1  Action, Adventure, Drama, Fantasy, Magic, Mili...     TV       64    9.26   \n",
       "2  Action, Comedy, Historical, Parody, Samurai, S...     TV       51    9.25   \n",
       "3                                   Sci-Fi, Thriller     TV       24    9.17   \n",
       "4  Action, Comedy, Historical, Parody, Samurai, S...     TV       51    9.16   \n",
       "\n",
       "   members  \n",
       "0   200630  \n",
       "1   793665  \n",
       "2   114262  \n",
       "3   673572  \n",
       "4   151266  "
      ]
     },
     "execution_count": 3,
     "metadata": {},
     "output_type": "execute_result"
    }
   ],
   "source": [
    "df_anime.head()"
   ]
  },
  {
   "cell_type": "code",
   "execution_count": 4,
   "id": "8f647195",
   "metadata": {},
   "outputs": [
    {
     "data": {
      "text/html": [
       "<div>\n",
       "<style scoped>\n",
       "    .dataframe tbody tr th:only-of-type {\n",
       "        vertical-align: middle;\n",
       "    }\n",
       "\n",
       "    .dataframe tbody tr th {\n",
       "        vertical-align: top;\n",
       "    }\n",
       "\n",
       "    .dataframe thead th {\n",
       "        text-align: right;\n",
       "    }\n",
       "</style>\n",
       "<table border=\"1\" class=\"dataframe\">\n",
       "  <thead>\n",
       "    <tr style=\"text-align: right;\">\n",
       "      <th></th>\n",
       "      <th>user_id</th>\n",
       "      <th>anime_id</th>\n",
       "      <th>rating</th>\n",
       "    </tr>\n",
       "  </thead>\n",
       "  <tbody>\n",
       "    <tr>\n",
       "      <th>0</th>\n",
       "      <td>1</td>\n",
       "      <td>20</td>\n",
       "      <td>-1</td>\n",
       "    </tr>\n",
       "    <tr>\n",
       "      <th>1</th>\n",
       "      <td>1</td>\n",
       "      <td>24</td>\n",
       "      <td>-1</td>\n",
       "    </tr>\n",
       "    <tr>\n",
       "      <th>2</th>\n",
       "      <td>1</td>\n",
       "      <td>79</td>\n",
       "      <td>-1</td>\n",
       "    </tr>\n",
       "    <tr>\n",
       "      <th>3</th>\n",
       "      <td>1</td>\n",
       "      <td>226</td>\n",
       "      <td>-1</td>\n",
       "    </tr>\n",
       "    <tr>\n",
       "      <th>4</th>\n",
       "      <td>1</td>\n",
       "      <td>241</td>\n",
       "      <td>-1</td>\n",
       "    </tr>\n",
       "  </tbody>\n",
       "</table>\n",
       "</div>"
      ],
      "text/plain": [
       "   user_id  anime_id  rating\n",
       "0        1        20      -1\n",
       "1        1        24      -1\n",
       "2        1        79      -1\n",
       "3        1       226      -1\n",
       "4        1       241      -1"
      ]
     },
     "execution_count": 4,
     "metadata": {},
     "output_type": "execute_result"
    }
   ],
   "source": [
    "df_rating.head()"
   ]
  },
  {
   "cell_type": "code",
   "execution_count": 5,
   "id": "8ee5d42c",
   "metadata": {},
   "outputs": [
    {
     "name": "stdout",
     "output_type": "stream",
     "text": [
      "df anime (row, col): (12294, 7)\n",
      "\n",
      "df rating (row, col): (7813737, 3)\n"
     ]
    }
   ],
   "source": [
    "print(f\"df anime (row, col): {df_anime.shape}\\n\\ndf rating (row, col): {df_rating.shape}\")"
   ]
  },
  {
   "cell_type": "code",
   "execution_count": 6,
   "id": "2126844b",
   "metadata": {},
   "outputs": [
    {
     "name": "stdout",
     "output_type": "stream",
     "text": [
      "Anime Info: \n",
      "<class 'pandas.core.frame.DataFrame'>\n",
      "RangeIndex: 12294 entries, 0 to 12293\n",
      "Data columns (total 7 columns):\n",
      " #   Column    Non-Null Count  Dtype  \n",
      "---  ------    --------------  -----  \n",
      " 0   anime_id  12294 non-null  int64  \n",
      " 1   name      12294 non-null  object \n",
      " 2   genre     12232 non-null  object \n",
      " 3   type      12269 non-null  object \n",
      " 4   episodes  12294 non-null  object \n",
      " 5   rating    12064 non-null  float64\n",
      " 6   members   12294 non-null  int64  \n",
      "dtypes: float64(1), int64(2), object(4)\n",
      "memory usage: 672.5+ KB\n",
      "None\n",
      "\n",
      " ************************************************** \n",
      "\n",
      "Rating Info: \n",
      "<class 'pandas.core.frame.DataFrame'>\n",
      "RangeIndex: 7813737 entries, 0 to 7813736\n",
      "Data columns (total 3 columns):\n",
      " #   Column    Dtype\n",
      "---  ------    -----\n",
      " 0   user_id   int64\n",
      " 1   anime_id  int64\n",
      " 2   rating    int64\n",
      "dtypes: int64(3)\n",
      "memory usage: 178.8 MB\n",
      "None\n"
     ]
    }
   ],
   "source": [
    "print(\"Anime Info: \")\n",
    "print(df_anime.info())\n",
    "print(\"\\n\", \"*\"*50, \"\\n\")\n",
    "print(\"Rating Info: \")\n",
    "print(df_rating.info())"
   ]
  },
  {
   "cell_type": "markdown",
   "id": "a4010781",
   "metadata": {},
   "source": [
    "## Data Cleaning"
   ]
  },
  {
   "cell_type": "markdown",
   "id": "c159b12a",
   "metadata": {},
   "source": [
    "#### Check Missing Values"
   ]
  },
  {
   "cell_type": "code",
   "execution_count": 7,
   "id": "34ec76e9",
   "metadata": {},
   "outputs": [
    {
     "data": {
      "text/plain": [
       "anime_id      0\n",
       "name          0\n",
       "genre        62\n",
       "type         25\n",
       "episodes      0\n",
       "rating      230\n",
       "members       0\n",
       "dtype: int64"
      ]
     },
     "execution_count": 7,
     "metadata": {},
     "output_type": "execute_result"
    }
   ],
   "source": [
    "df_anime.isna().sum()"
   ]
  },
  {
   "cell_type": "code",
   "execution_count": 8,
   "id": "4a8e1fd1",
   "metadata": {},
   "outputs": [
    {
     "data": {
      "text/plain": [
       "user_id     0\n",
       "anime_id    0\n",
       "rating      0\n",
       "dtype: int64"
      ]
     },
     "execution_count": 8,
     "metadata": {},
     "output_type": "execute_result"
    }
   ],
   "source": [
    "df_rating.isna().sum()"
   ]
  },
  {
   "cell_type": "markdown",
   "id": "c098a5f3",
   "metadata": {},
   "source": [
    "#### Remove Missing Values"
   ]
  },
  {
   "cell_type": "code",
   "execution_count": 9,
   "id": "d8b81c4e",
   "metadata": {},
   "outputs": [
    {
     "data": {
      "text/plain": [
       "anime_id    0\n",
       "name        0\n",
       "genre       0\n",
       "type        0\n",
       "episodes    0\n",
       "rating      0\n",
       "members     0\n",
       "dtype: int64"
      ]
     },
     "execution_count": 9,
     "metadata": {},
     "output_type": "execute_result"
    }
   ],
   "source": [
    "df_anime.dropna(axis=0, inplace=True)\n",
    "df_anime.isna().sum()"
   ]
  },
  {
   "cell_type": "markdown",
   "id": "e3fb0fe8",
   "metadata": {},
   "source": [
    "#### Check Duplicates"
   ]
  },
  {
   "cell_type": "code",
   "execution_count": 10,
   "id": "295c7844",
   "metadata": {},
   "outputs": [
    {
     "name": "stdout",
     "output_type": "stream",
     "text": [
      "Count of duplicated value: 0\n"
     ]
    }
   ],
   "source": [
    "duplicated_anime = df_anime[df_anime.duplicated()].shape[0]\n",
    "print(f\"Count of duplicated value: {duplicated_anime}\")"
   ]
  },
  {
   "cell_type": "code",
   "execution_count": 11,
   "id": "475f8ae4",
   "metadata": {},
   "outputs": [
    {
     "name": "stdout",
     "output_type": "stream",
     "text": [
      "Count of duplicated value: 1\n"
     ]
    }
   ],
   "source": [
    "duplicated_rating = df_rating[df_rating.duplicated()].shape[0]\n",
    "print(f\"Count of duplicated value: {duplicated_rating}\")"
   ]
  },
  {
   "cell_type": "markdown",
   "id": "050030f5",
   "metadata": {},
   "source": [
    "#### Remove Duplicates"
   ]
  },
  {
   "cell_type": "code",
   "execution_count": 12,
   "id": "4f3df032",
   "metadata": {},
   "outputs": [
    {
     "name": "stdout",
     "output_type": "stream",
     "text": [
      "Count of duplicated value: 0\n"
     ]
    }
   ],
   "source": [
    "df_rating.drop_duplicates(keep='first', inplace=True)\n",
    "\n",
    "duplicated_rating = df_rating[df_rating.duplicated()].shape[0]\n",
    "print(f\"Count of duplicated value: {duplicated_rating}\")"
   ]
  },
  {
   "cell_type": "markdown",
   "id": "f150e8b0",
   "metadata": {},
   "source": [
    "## Exploratory Data"
   ]
  },
  {
   "cell_type": "markdown",
   "id": "109bf7f0",
   "metadata": {},
   "source": [
    "#### Anime Type"
   ]
  },
  {
   "cell_type": "code",
   "execution_count": 13,
   "id": "5794c81d",
   "metadata": {},
   "outputs": [
    {
     "data": {
      "text/plain": [
       "type\n",
       "TV         3668\n",
       "OVA        3284\n",
       "Movie      2259\n",
       "Special    1670\n",
       "ONA         648\n",
       "Music       488\n",
       "dtype: int64"
      ]
     },
     "execution_count": 13,
     "metadata": {},
     "output_type": "execute_result"
    }
   ],
   "source": [
    "df_anime.value_counts('type')"
   ]
  },
  {
   "cell_type": "code",
   "execution_count": 14,
   "id": "22179830",
   "metadata": {},
   "outputs": [
    {
     "name": "stdout",
     "output_type": "stream",
     "text": [
      "Anime Type Distribution\n",
      "type\n",
      "TV         30.52\n",
      "OVA        27.33\n",
      "Movie      18.80\n",
      "Special    13.90\n",
      "ONA         5.39\n",
      "Music       4.06\n",
      "dtype: float64\n"
     ]
    }
   ],
   "source": [
    "print(\"Anime Type Distribution\")\n",
    "print(round(df_anime.value_counts('type', normalize=True).mul(100), 2))"
   ]
  },
  {
   "cell_type": "code",
   "execution_count": 15,
   "id": "e02ee91f",
   "metadata": {},
   "outputs": [
    {
     "data": {
      "text/plain": [
       "<AxesSubplot:xlabel='type', ylabel='count'>"
      ]
     },
     "execution_count": 15,
     "metadata": {},
     "output_type": "execute_result"
    },
    {
     "data": {
      "image/png": "[encoded data removed]",
      "text/plain": [
       "<Figure size 840x360 with 1 Axes>"
      ]
     },
     "metadata": {
      "needs_background": "light"
     },
     "output_type": "display_data"
    }
   ],
   "source": [
    "sns.countplot(x=df_anime.type)"
   ]
  },
  {
   "cell_type": "markdown",
   "id": "1abbaa0e",
   "metadata": {},
   "source": [
    "#### Insights:\n",
    "    . Out of total anime type, almost are aired on TV (30% - 3668)\n",
    "    . OVA (Original video animation) format constitutes (27% - 3284)\n",
    "    . Movie is another popular format, with (19% - 2259 )"
   ]
  },
  {
   "cell_type": "markdown",
   "id": "157fa094",
   "metadata": {},
   "source": [
    "#### Top Anime by Community"
   ]
  },
  {
   "cell_type": "code",
   "execution_count": 16,
   "id": "44dfdec6",
   "metadata": {},
   "outputs": [],
   "source": [
    "top_anime_member = df_anime.sort_values(['members'], ascending=False)"
   ]
  },
  {
   "cell_type": "code",
   "execution_count": 17,
   "id": "d18fb575",
   "metadata": {},
   "outputs": [
    {
     "data": {
      "image/png": "[encoded data removed]",
      "text/plain": [
       "<Figure size 840x360 with 1 Axes>"
      ]
     },
     "metadata": {
      "needs_background": "light"
     },
     "output_type": "display_data"
    }
   ],
   "source": [
    "sns.barplot(x=top_anime_member['name'][:10], y=top_anime_member['members'][:10])\n",
    "plt.title('Top Anime by Community')\n",
    "plt.xlabel('Anime')\n",
    "plt.ylabel('Number of Members')\n",
    "plt.xticks(rotation=90);"
   ]
  },
  {
   "cell_type": "markdown",
   "id": "3979c809",
   "metadata": {},
   "source": [
    "#### Top Anime by Rating"
   ]
  },
  {
   "cell_type": "code",
   "execution_count": 18,
   "id": "b9e33691",
   "metadata": {},
   "outputs": [],
   "source": [
    "top_anime_rating = df_anime.sort_values(['rating'], ascending=False)"
   ]
  },
  {
   "cell_type": "code",
   "execution_count": 19,
   "id": "54fe5ee9",
   "metadata": {},
   "outputs": [
    {
     "data": {
      "image/png": "[encoded data removed]",
      "text/plain": [
       "<Figure size 840x360 with 1 Axes>"
      ]
     },
     "metadata": {
      "needs_background": "light"
     },
     "output_type": "display_data"
    }
   ],
   "source": [
    "sns.barplot(x=top_anime_rating['name'][:10], y=top_anime_rating['rating'][:10])\n",
    "plt.title('Top Anime by Rating')\n",
    "plt.xlabel('Anime')\n",
    "plt.ylabel('Rating')\n",
    "plt.xticks(rotation=90);"
   ]
  },
  {
   "cell_type": "markdown",
   "id": "fc83c9f8",
   "metadata": {},
   "source": [
    "#### Overall Anime Rating"
   ]
  },
  {
   "cell_type": "code",
   "execution_count": 20,
   "id": "b775fb50",
   "metadata": {},
   "outputs": [
    {
     "data": {
      "text/plain": [
       "Text(0.5, 1.0, 'Average Rating Distribution')"
      ]
     },
     "execution_count": 20,
     "metadata": {},
     "output_type": "execute_result"
    },
    {
     "data": {
      "image/png": "[encoded data removed]",
      "text/plain": [
       "<Figure size 600x600 with 1 Axes>"
      ]
     },
     "metadata": {
      "needs_background": "light"
     },
     "output_type": "display_data"
    }
   ],
   "source": [
    "sns.displot(data=df_anime, x='rating', kde=True, bins=15)\n",
    "plt.xlabel('Rating')\n",
    "plt.ylabel('Total')\n",
    "plt.title('Average Rating Distribution')"
   ]
  },
  {
   "cell_type": "markdown",
   "id": "ec7bfcfb",
   "metadata": {},
   "source": [
    "#### Merge Data"
   ]
  },
  {
   "cell_type": "code",
   "execution_count": 21,
   "id": "112dc18d",
   "metadata": {},
   "outputs": [
    {
     "name": "stdout",
     "output_type": "stream",
     "text": [
      "Shape of merged data: (7813610, 9)\n"
     ]
    }
   ],
   "source": [
    "data = pd.merge(df_anime, df_rating, on=\"anime_id\", suffixes=[None, \"_user\"])\n",
    "data = data.rename(columns={\"rating_user\": \"user_rating\"})\n",
    "\n",
    "print(f\"Shape of merged data: {data.shape}\")"
   ]
  },
  {
   "cell_type": "code",
   "execution_count": 22,
   "id": "9e48b578",
   "metadata": {},
   "outputs": [
    {
     "data": {
      "text/html": [
       "<div>\n",
       "<style scoped>\n",
       "    .dataframe tbody tr th:only-of-type {\n",
       "        vertical-align: middle;\n",
       "    }\n",
       "\n",
       "    .dataframe tbody tr th {\n",
       "        vertical-align: top;\n",
       "    }\n",
       "\n",
       "    .dataframe thead th {\n",
       "        text-align: right;\n",
       "    }\n",
       "</style>\n",
       "<table border=\"1\" class=\"dataframe\">\n",
       "  <thead>\n",
       "    <tr style=\"text-align: right;\">\n",
       "      <th></th>\n",
       "      <th>anime_id</th>\n",
       "      <th>name</th>\n",
       "      <th>genre</th>\n",
       "      <th>type</th>\n",
       "      <th>episodes</th>\n",
       "      <th>rating</th>\n",
       "      <th>members</th>\n",
       "      <th>user_id</th>\n",
       "      <th>user_rating</th>\n",
       "    </tr>\n",
       "  </thead>\n",
       "  <tbody>\n",
       "    <tr>\n",
       "      <th>0</th>\n",
       "      <td>32281</td>\n",
       "      <td>Kimi no Na wa.</td>\n",
       "      <td>Drama, Romance, School, Supernatural</td>\n",
       "      <td>Movie</td>\n",
       "      <td>1</td>\n",
       "      <td>9.37</td>\n",
       "      <td>200630</td>\n",
       "      <td>99</td>\n",
       "      <td>5</td>\n",
       "    </tr>\n",
       "    <tr>\n",
       "      <th>1</th>\n",
       "      <td>32281</td>\n",
       "      <td>Kimi no Na wa.</td>\n",
       "      <td>Drama, Romance, School, Supernatural</td>\n",
       "      <td>Movie</td>\n",
       "      <td>1</td>\n",
       "      <td>9.37</td>\n",
       "      <td>200630</td>\n",
       "      <td>152</td>\n",
       "      <td>10</td>\n",
       "    </tr>\n",
       "    <tr>\n",
       "      <th>2</th>\n",
       "      <td>32281</td>\n",
       "      <td>Kimi no Na wa.</td>\n",
       "      <td>Drama, Romance, School, Supernatural</td>\n",
       "      <td>Movie</td>\n",
       "      <td>1</td>\n",
       "      <td>9.37</td>\n",
       "      <td>200630</td>\n",
       "      <td>244</td>\n",
       "      <td>10</td>\n",
       "    </tr>\n",
       "    <tr>\n",
       "      <th>3</th>\n",
       "      <td>32281</td>\n",
       "      <td>Kimi no Na wa.</td>\n",
       "      <td>Drama, Romance, School, Supernatural</td>\n",
       "      <td>Movie</td>\n",
       "      <td>1</td>\n",
       "      <td>9.37</td>\n",
       "      <td>200630</td>\n",
       "      <td>271</td>\n",
       "      <td>10</td>\n",
       "    </tr>\n",
       "    <tr>\n",
       "      <th>4</th>\n",
       "      <td>32281</td>\n",
       "      <td>Kimi no Na wa.</td>\n",
       "      <td>Drama, Romance, School, Supernatural</td>\n",
       "      <td>Movie</td>\n",
       "      <td>1</td>\n",
       "      <td>9.37</td>\n",
       "      <td>200630</td>\n",
       "      <td>278</td>\n",
       "      <td>-1</td>\n",
       "    </tr>\n",
       "  </tbody>\n",
       "</table>\n",
       "</div>"
      ],
      "text/plain": [
       "   anime_id            name                                 genre   type  \\\n",
       "0     32281  Kimi no Na wa.  Drama, Romance, School, Supernatural  Movie   \n",
       "1     32281  Kimi no Na wa.  Drama, Romance, School, Supernatural  Movie   \n",
       "2     32281  Kimi no Na wa.  Drama, Romance, School, Supernatural  Movie   \n",
       "3     32281  Kimi no Na wa.  Drama, Romance, School, Supernatural  Movie   \n",
       "4     32281  Kimi no Na wa.  Drama, Romance, School, Supernatural  Movie   \n",
       "\n",
       "  episodes  rating  members  user_id  user_rating  \n",
       "0        1    9.37   200630       99            5  \n",
       "1        1    9.37   200630      152           10  \n",
       "2        1    9.37   200630      244           10  \n",
       "3        1    9.37   200630      271           10  \n",
       "4        1    9.37   200630      278           -1  "
      ]
     },
     "execution_count": 22,
     "metadata": {},
     "output_type": "execute_result"
    }
   ],
   "source": [
    "data.head()"
   ]
  },
  {
   "cell_type": "markdown",
   "id": "b12bc71e",
   "metadata": {},
   "source": [
    "#### User rating Distribution"
   ]
  },
  {
   "cell_type": "code",
   "execution_count": 23,
   "id": "31bcd214",
   "metadata": {},
   "outputs": [
    {
     "data": {
      "text/plain": [
       "-1     1476465\n",
       " 1       16644\n",
       " 2       23140\n",
       " 3       41437\n",
       " 4      104275\n",
       " 5      282791\n",
       " 6      637762\n",
       " 7     1375277\n",
       " 8     1646017\n",
       " 9     1254090\n",
       " 10     955712\n",
       "Name: user_rating, dtype: int64"
      ]
     },
     "execution_count": 23,
     "metadata": {},
     "output_type": "execute_result"
    }
   ],
   "source": [
    "user_rating_count = data['user_rating'].value_counts().sort_index()\n",
    "user_rating_count"
   ]
  },
  {
   "cell_type": "code",
   "execution_count": 24,
   "id": "998be2ff",
   "metadata": {},
   "outputs": [
    {
     "data": {
      "text/plain": [
       "Text(0.5, 1.0, 'User Rating Distribution')"
      ]
     },
     "execution_count": 24,
     "metadata": {},
     "output_type": "execute_result"
    },
    {
     "data": {
      "image/png": "[encoded data removed]",
      "text/plain": [
       "<Figure size 840x360 with 1 Axes>"
      ]
     },
     "metadata": {
      "needs_background": "light"
     },
     "output_type": "display_data"
    }
   ],
   "source": [
    "sns.barplot(x=user_rating_count.index, y=user_rating_count.values)\n",
    "plt.xlabel('Rating')\n",
    "plt.ylabel('Total')\n",
    "plt.title('User Rating Distribution')"
   ]
  },
  {
   "cell_type": "markdown",
   "id": "2d5acf68",
   "metadata": {},
   "source": [
    "#### Insights:\n",
    "    . The chart are distributed between 5 and 10, suggesting a higher inclination towards positive rating.\n",
    "    . On the otherhand, rating of -1. This can be considered an anormaly and can be discarded from the analysis."
   ]
  },
  {
   "cell_type": "markdown",
   "id": "5c98ccca",
   "metadata": {},
   "source": [
    "#### Genre"
   ]
  },
  {
   "cell_type": "code",
   "execution_count": 25,
   "id": "09a68c9a",
   "metadata": {},
   "outputs": [
    {
     "data": {
      "text/plain": [
       "Hentai                                                   816\n",
       "Comedy                                                   521\n",
       "Music                                                    297\n",
       "Kids                                                     197\n",
       "Comedy, Slice of Life                                    174\n",
       "                                                        ... \n",
       "Adventure, Comedy, Horror, Shounen, Supernatural           1\n",
       "Comedy, Harem, Romance, School, Seinen, Slice of Life      1\n",
       "Comedy, Ecchi, Sci-Fi, Shounen                             1\n",
       "Adventure, Shounen, Sports                                 1\n",
       "Hentai, Slice of Life                                      1\n",
       "Name: genre, Length: 3229, dtype: int64"
      ]
     },
     "execution_count": 25,
     "metadata": {},
     "output_type": "execute_result"
    }
   ],
   "source": [
    "genre = df_anime['genre'].value_counts()\n",
    "genre"
   ]
  },
  {
   "cell_type": "code",
   "execution_count": 26,
   "id": "ff8d90a2",
   "metadata": {},
   "outputs": [
    {
     "data": {
      "image/png": "[encoded data removed]",
      "text/plain": [
       "<Figure size 1200x720 with 1 Axes>"
      ]
     },
     "metadata": {
      "needs_background": "light"
     },
     "output_type": "display_data"
    }
   ],
   "source": [
    "genre_counts = df_anime['genre'].str.split(', ').explode().value_counts()\n",
    "\n",
    "plt.figure(figsize=(10, 6))\n",
    "genre_counts.plot(kind='bar')\n",
    "plt.title('Genre Distribution')\n",
    "plt.xlabel('Genre')\n",
    "plt.ylabel('Count')\n",
    "plt.xticks(rotation=45, ha='right')\n",
    "plt.tight_layout()\n",
    "plt.show()"
   ]
  },
  {
   "cell_type": "markdown",
   "id": "d99f1305",
   "metadata": {},
   "source": [
    "## Data Preprocessing"
   ]
  },
  {
   "cell_type": "markdown",
   "id": "a25e385c",
   "metadata": {},
   "source": [
    "#### Drop Records\n",
    "    As the chart showed above, we have to remove rows where user_rating = -1 as user has viewed the anime but no rating has been given"
   ]
  },
  {
   "cell_type": "code",
   "execution_count": 27,
   "id": "ca3098fb",
   "metadata": {},
   "outputs": [
    {
     "data": {
      "text/plain": [
       "anime_id       0\n",
       "name           0\n",
       "genre          0\n",
       "type           0\n",
       "episodes       0\n",
       "rating         0\n",
       "members        0\n",
       "user_id        0\n",
       "user_rating    0\n",
       "dtype: int64"
      ]
     },
     "execution_count": 27,
     "metadata": {},
     "output_type": "execute_result"
    }
   ],
   "source": [
    "data['user_rating'].replace(to_replace= -1, value=np.nan, inplace=True)\n",
    "data = data.dropna(axis=0)\n",
    "data.isnull().sum()"
   ]
  },
  {
   "cell_type": "code",
   "execution_count": 28,
   "id": "223feccc",
   "metadata": {},
   "outputs": [
    {
     "name": "stdout",
     "output_type": "stream",
     "text": [
      "New shape of merged data: (6337145, 9)\n"
     ]
    }
   ],
   "source": [
    "print(f\"New shape of merged data: {data.shape}\")"
   ]
  },
  {
   "cell_type": "markdown",
   "id": "56bcc515",
   "metadata": {},
   "source": [
    "#### Handle Japanese & Special Character"
   ]
  },
  {
   "cell_type": "code",
   "execution_count": 29,
   "id": "26ec119d",
   "metadata": {},
   "outputs": [],
   "source": [
    "import re\n",
    "def text_cleaning(text):\n",
    "    text = re.sub(r'&quot;', '', text)\n",
    "    text = re.sub(r'.hack//', '', text)\n",
    "    text = re.sub(r'&#039;', '', text)\n",
    "    text = re.sub(r'A&#039;s', '', text)\n",
    "    text = re.sub(r'I&#039;', 'I\\'', text)\n",
    "    text = re.sub(r'&amp;', 'and', text)\n",
    "    \n",
    "    return text\n",
    "\n",
    "data[\"name\"] = data[\"name\"].apply(text_cleaning)"
   ]
  },
  {
   "cell_type": "markdown",
   "id": "18cd6613",
   "metadata": {},
   "source": [
    "#  ---------------------------------- Anime Analysis  ---------------------------------- #\n",
    "\n",
    "    \n"
   ]
  },
  {
   "cell_type": "code",
   "execution_count": 30,
   "id": "668c9ae0",
   "metadata": {},
   "outputs": [
    {
     "name": "stdout",
     "output_type": "stream",
     "text": [
      "42635    3747\n",
      "53698    2905\n",
      "57620    2689\n",
      "59643    2632\n",
      "51693    2620\n",
      "         ... \n",
      "41324       1\n",
      "11199       1\n",
      "19041       1\n",
      "26082       1\n",
      "62930       1\n",
      "Name: user_id, Length: 69600, dtype: int64\n"
     ]
    },
    {
     "data": {
      "text/html": [
       "<div>\n",
       "<style scoped>\n",
       "    .dataframe tbody tr th:only-of-type {\n",
       "        vertical-align: middle;\n",
       "    }\n",
       "\n",
       "    .dataframe tbody tr th {\n",
       "        vertical-align: top;\n",
       "    }\n",
       "\n",
       "    .dataframe thead th {\n",
       "        text-align: right;\n",
       "    }\n",
       "</style>\n",
       "<table border=\"1\" class=\"dataframe\">\n",
       "  <thead>\n",
       "    <tr style=\"text-align: right;\">\n",
       "      <th></th>\n",
       "      <th>name</th>\n",
       "      <th>genre</th>\n",
       "      <th>type</th>\n",
       "      <th>episodes</th>\n",
       "      <th>rating</th>\n",
       "      <th>members</th>\n",
       "      <th>user_id</th>\n",
       "      <th>user_rating</th>\n",
       "    </tr>\n",
       "    <tr>\n",
       "      <th>anime_id</th>\n",
       "      <th></th>\n",
       "      <th></th>\n",
       "      <th></th>\n",
       "      <th></th>\n",
       "      <th></th>\n",
       "      <th></th>\n",
       "      <th></th>\n",
       "      <th></th>\n",
       "    </tr>\n",
       "  </thead>\n",
       "  <tbody>\n",
       "    <tr>\n",
       "      <th>5114</th>\n",
       "      <td>Fullmetal Alchemist: Brotherhood</td>\n",
       "      <td>Action, Adventure, Drama, Fantasy, Magic, Mili...</td>\n",
       "      <td>TV</td>\n",
       "      <td>64</td>\n",
       "      <td>9.26</td>\n",
       "      <td>793665</td>\n",
       "      <td>42635</td>\n",
       "      <td>6</td>\n",
       "    </tr>\n",
       "    <tr>\n",
       "      <th>28977</th>\n",
       "      <td>Gintama°</td>\n",
       "      <td>Action, Comedy, Historical, Parody, Samurai, S...</td>\n",
       "      <td>TV</td>\n",
       "      <td>51</td>\n",
       "      <td>9.25</td>\n",
       "      <td>114262</td>\n",
       "      <td>42635</td>\n",
       "      <td>8</td>\n",
       "    </tr>\n",
       "    <tr>\n",
       "      <th>9253</th>\n",
       "      <td>Steins;Gate</td>\n",
       "      <td>Sci-Fi, Thriller</td>\n",
       "      <td>TV</td>\n",
       "      <td>24</td>\n",
       "      <td>9.17</td>\n",
       "      <td>673572</td>\n",
       "      <td>42635</td>\n",
       "      <td>8</td>\n",
       "    </tr>\n",
       "    <tr>\n",
       "      <th>9969</th>\n",
       "      <td>Gintama&amp;#039;</td>\n",
       "      <td>Action, Comedy, Historical, Parody, Samurai, S...</td>\n",
       "      <td>TV</td>\n",
       "      <td>51</td>\n",
       "      <td>9.16</td>\n",
       "      <td>151266</td>\n",
       "      <td>42635</td>\n",
       "      <td>6</td>\n",
       "    </tr>\n",
       "    <tr>\n",
       "      <th>11061</th>\n",
       "      <td>Hunter x Hunter (2011)</td>\n",
       "      <td>Action, Adventure, Shounen, Super Power</td>\n",
       "      <td>TV</td>\n",
       "      <td>148</td>\n",
       "      <td>9.13</td>\n",
       "      <td>425855</td>\n",
       "      <td>42635</td>\n",
       "      <td>7</td>\n",
       "    </tr>\n",
       "  </tbody>\n",
       "</table>\n",
       "</div>"
      ],
      "text/plain": [
       "                                      name  \\\n",
       "anime_id                                     \n",
       "5114      Fullmetal Alchemist: Brotherhood   \n",
       "28977                             Gintama°   \n",
       "9253                           Steins;Gate   \n",
       "9969                         Gintama&#039;   \n",
       "11061               Hunter x Hunter (2011)   \n",
       "\n",
       "                                                      genre type episodes  \\\n",
       "anime_id                                                                    \n",
       "5114      Action, Adventure, Drama, Fantasy, Magic, Mili...   TV       64   \n",
       "28977     Action, Comedy, Historical, Parody, Samurai, S...   TV       51   \n",
       "9253                                       Sci-Fi, Thriller   TV       24   \n",
       "9969      Action, Comedy, Historical, Parody, Samurai, S...   TV       51   \n",
       "11061               Action, Adventure, Shounen, Super Power   TV      148   \n",
       "\n",
       "          rating  members  user_id  user_rating  \n",
       "anime_id                                         \n",
       "5114        9.26   793665    42635            6  \n",
       "28977       9.25   114262    42635            8  \n",
       "9253        9.17   673572    42635            8  \n",
       "9969        9.16   151266    42635            6  \n",
       "11061       9.13   425855    42635            7  "
      ]
     },
     "execution_count": 30,
     "metadata": {},
     "output_type": "execute_result"
    }
   ],
   "source": [
    "df_anime_id = df_anime.set_index('anime_id')\n",
    "df_rating_id = df_rating.set_index('anime_id')\n",
    "\n",
    "df = pd.merge(df_anime_id, df_rating_id, on=\"anime_id\", suffixes=[None, \"_user\"])\n",
    "df = df.rename(columns={\"rating_user\": \"user_rating\"})\n",
    "\n",
    "df = df[df['user_rating'] != -1]\n",
    "\n",
    "# Calculate the frequencies of unique values in te specified column\n",
    "value_counts = df['user_id'].value_counts()\n",
    "print(value_counts)\n",
    "\n",
    "# Sort data based on the frequencies in descending order\n",
    "sorted_df = df.sort_values(by='user_id', key=lambda x: x.map(value_counts), ascending=False)\n",
    "df = df[df['user_id'] == 42635]\n",
    "df.head()"
   ]
  },
  {
   "cell_type": "code",
   "execution_count": 31,
   "id": "8b3a6483",
   "metadata": {},
   "outputs": [],
   "source": [
    "# Split the genre column by comma and expand the list to a col for each genre\n",
    "# now we have 13 columns\n",
    "genres = df.genre.str.split(', ', expand=True)"
   ]
  },
  {
   "cell_type": "code",
   "execution_count": 32,
   "id": "2d7b3fd8",
   "metadata": {},
   "outputs": [],
   "source": [
    "# Convert dataframe into a single dimension array and take the unique values\n",
    "unique_genres = pd.Series(genres.values.ravel('K')).dropna().unique()"
   ]
  },
  {
   "cell_type": "code",
   "execution_count": 33,
   "id": "bb4679cc",
   "metadata": {},
   "outputs": [],
   "source": [
    "# Getting a dummy variables will get more columns than unique genres\n",
    "dummies = pd.get_dummies(genres)"
   ]
  },
  {
   "cell_type": "code",
   "execution_count": 34,
   "id": "568330e7",
   "metadata": {},
   "outputs": [],
   "source": [
    "# Getting a single column for each genre\n",
    "for i in unique_genres:\n",
    "    df[i] = dummies.loc[:, dummies.columns.str.endswith(i)].sum(axis=1)"
   ]
  },
  {
   "cell_type": "code",
   "execution_count": 35,
   "id": "aac8b401",
   "metadata": {},
   "outputs": [],
   "source": [
    "# add the type of dummies\n",
    "type_dummies = pd.get_dummies(df.type, prefix='Type:', prefix_sep=' ')\n",
    "df = pd.concat([df, type_dummies], axis=1)"
   ]
  },
  {
   "cell_type": "code",
   "execution_count": 36,
   "id": "f29c8698",
   "metadata": {},
   "outputs": [],
   "source": [
    "df = df.drop(columns=[\"name\", \"type\", \"genre\", \"episodes\", \"rating\", \"members\", 'user_id', \n",
    "                                                'Type: Movie', 'Type: ONA', 'Type: OVA', 'Type: Special','Type: TV', 'Type: Music'])"
   ]
  },
  {
   "cell_type": "code",
   "execution_count": 37,
   "id": "c792e6b7",
   "metadata": {},
   "outputs": [
    {
     "data": {
      "text/html": [
       "<div>\n",
       "<style scoped>\n",
       "    .dataframe tbody tr th:only-of-type {\n",
       "        vertical-align: middle;\n",
       "    }\n",
       "\n",
       "    .dataframe tbody tr th {\n",
       "        vertical-align: top;\n",
       "    }\n",
       "\n",
       "    .dataframe thead th {\n",
       "        text-align: right;\n",
       "    }\n",
       "</style>\n",
       "<table border=\"1\" class=\"dataframe\">\n",
       "  <thead>\n",
       "    <tr style=\"text-align: right;\">\n",
       "      <th></th>\n",
       "      <th>user_rating</th>\n",
       "      <th>Action</th>\n",
       "      <th>Sci-Fi</th>\n",
       "      <th>Drama</th>\n",
       "      <th>Comedy</th>\n",
       "      <th>Adventure</th>\n",
       "      <th>Fantasy</th>\n",
       "      <th>Mystery</th>\n",
       "      <th>Psychological</th>\n",
       "      <th>Ecchi</th>\n",
       "      <th>...</th>\n",
       "      <th>Yaoi</th>\n",
       "      <th>Thriller</th>\n",
       "      <th>Police</th>\n",
       "      <th>Supernatural</th>\n",
       "      <th>Samurai</th>\n",
       "      <th>Shoujo Ai</th>\n",
       "      <th>Shounen Ai</th>\n",
       "      <th>Space</th>\n",
       "      <th>Vampire</th>\n",
       "      <th>Yuri</th>\n",
       "    </tr>\n",
       "    <tr>\n",
       "      <th>anime_id</th>\n",
       "      <th></th>\n",
       "      <th></th>\n",
       "      <th></th>\n",
       "      <th></th>\n",
       "      <th></th>\n",
       "      <th></th>\n",
       "      <th></th>\n",
       "      <th></th>\n",
       "      <th></th>\n",
       "      <th></th>\n",
       "      <th></th>\n",
       "      <th></th>\n",
       "      <th></th>\n",
       "      <th></th>\n",
       "      <th></th>\n",
       "      <th></th>\n",
       "      <th></th>\n",
       "      <th></th>\n",
       "      <th></th>\n",
       "      <th></th>\n",
       "      <th></th>\n",
       "    </tr>\n",
       "  </thead>\n",
       "  <tbody>\n",
       "    <tr>\n",
       "      <th>3549</th>\n",
       "      <td>7</td>\n",
       "      <td>1</td>\n",
       "      <td>0</td>\n",
       "      <td>0</td>\n",
       "      <td>0</td>\n",
       "      <td>1</td>\n",
       "      <td>0</td>\n",
       "      <td>0</td>\n",
       "      <td>0</td>\n",
       "      <td>0</td>\n",
       "      <td>...</td>\n",
       "      <td>0</td>\n",
       "      <td>0</td>\n",
       "      <td>0</td>\n",
       "      <td>0</td>\n",
       "      <td>0</td>\n",
       "      <td>0</td>\n",
       "      <td>0</td>\n",
       "      <td>0</td>\n",
       "      <td>0</td>\n",
       "      <td>0</td>\n",
       "    </tr>\n",
       "    <tr>\n",
       "      <th>4095</th>\n",
       "      <td>8</td>\n",
       "      <td>0</td>\n",
       "      <td>0</td>\n",
       "      <td>0</td>\n",
       "      <td>0</td>\n",
       "      <td>0</td>\n",
       "      <td>1</td>\n",
       "      <td>0</td>\n",
       "      <td>0</td>\n",
       "      <td>0</td>\n",
       "      <td>...</td>\n",
       "      <td>0</td>\n",
       "      <td>0</td>\n",
       "      <td>0</td>\n",
       "      <td>1</td>\n",
       "      <td>0</td>\n",
       "      <td>0</td>\n",
       "      <td>0</td>\n",
       "      <td>0</td>\n",
       "      <td>0</td>\n",
       "      <td>0</td>\n",
       "    </tr>\n",
       "    <tr>\n",
       "      <th>467</th>\n",
       "      <td>8</td>\n",
       "      <td>1</td>\n",
       "      <td>1</td>\n",
       "      <td>0</td>\n",
       "      <td>0</td>\n",
       "      <td>0</td>\n",
       "      <td>0</td>\n",
       "      <td>0</td>\n",
       "      <td>0</td>\n",
       "      <td>0</td>\n",
       "      <td>...</td>\n",
       "      <td>0</td>\n",
       "      <td>0</td>\n",
       "      <td>1</td>\n",
       "      <td>0</td>\n",
       "      <td>0</td>\n",
       "      <td>0</td>\n",
       "      <td>0</td>\n",
       "      <td>0</td>\n",
       "      <td>0</td>\n",
       "      <td>0</td>\n",
       "    </tr>\n",
       "    <tr>\n",
       "      <th>28519</th>\n",
       "      <td>5</td>\n",
       "      <td>0</td>\n",
       "      <td>0</td>\n",
       "      <td>0</td>\n",
       "      <td>0</td>\n",
       "      <td>0</td>\n",
       "      <td>0</td>\n",
       "      <td>0</td>\n",
       "      <td>0</td>\n",
       "      <td>0</td>\n",
       "      <td>...</td>\n",
       "      <td>0</td>\n",
       "      <td>0</td>\n",
       "      <td>0</td>\n",
       "      <td>0</td>\n",
       "      <td>0</td>\n",
       "      <td>0</td>\n",
       "      <td>0</td>\n",
       "      <td>0</td>\n",
       "      <td>0</td>\n",
       "      <td>0</td>\n",
       "    </tr>\n",
       "    <tr>\n",
       "      <th>6893</th>\n",
       "      <td>5</td>\n",
       "      <td>0</td>\n",
       "      <td>0</td>\n",
       "      <td>0</td>\n",
       "      <td>0</td>\n",
       "      <td>0</td>\n",
       "      <td>0</td>\n",
       "      <td>0</td>\n",
       "      <td>0</td>\n",
       "      <td>0</td>\n",
       "      <td>...</td>\n",
       "      <td>0</td>\n",
       "      <td>0</td>\n",
       "      <td>0</td>\n",
       "      <td>0</td>\n",
       "      <td>0</td>\n",
       "      <td>0</td>\n",
       "      <td>0</td>\n",
       "      <td>0</td>\n",
       "      <td>0</td>\n",
       "      <td>0</td>\n",
       "    </tr>\n",
       "  </tbody>\n",
       "</table>\n",
       "<p>5 rows × 44 columns</p>\n",
       "</div>"
      ],
      "text/plain": [
       "          user_rating  Action  Sci-Fi  Drama  Comedy  Adventure  Fantasy  \\\n",
       "anime_id                                                                   \n",
       "3549                7       1       0      0       0          1        0   \n",
       "4095                8       0       0      0       0          0        1   \n",
       "467                 8       1       1      0       0          0        0   \n",
       "28519               5       0       0      0       0          0        0   \n",
       "6893                5       0       0      0       0          0        0   \n",
       "\n",
       "          Mystery  Psychological  Ecchi  ...  Yaoi  Thriller  Police  \\\n",
       "anime_id                                 ...                           \n",
       "3549            0              0      0  ...     0         0       0   \n",
       "4095            0              0      0  ...     0         0       0   \n",
       "467             0              0      0  ...     0         0       1   \n",
       "28519           0              0      0  ...     0         0       0   \n",
       "6893            0              0      0  ...     0         0       0   \n",
       "\n",
       "          Supernatural  Samurai  Shoujo Ai  Shounen Ai  Space  Vampire  Yuri  \n",
       "anime_id                                                                      \n",
       "3549                 0        0          0           0      0        0     0  \n",
       "4095                 1        0          0           0      0        0     0  \n",
       "467                  0        0          0           0      0        0     0  \n",
       "28519                0        0          0           0      0        0     0  \n",
       "6893                 0        0          0           0      0        0     0  \n",
       "\n",
       "[5 rows x 44 columns]"
      ]
     },
     "execution_count": 37,
     "metadata": {},
     "output_type": "execute_result"
    }
   ],
   "source": [
    "df.sample(5)"
   ]
  },
  {
   "cell_type": "code",
   "execution_count": 38,
   "id": "d6819e8e",
   "metadata": {},
   "outputs": [],
   "source": [
    "# Calculate the mean and standard deviation of the user_rating column\n",
    "mean = df['user_rating'].mean()\n",
    "std = df['user_rating'].std()\n",
    "\n",
    "# Define a function to apply to each row in the user_rating column\n",
    "def label(row):\n",
    "    if row['user_rating'] > mean + std:\n",
    "        return 1\n",
    "    elif row['user_rating'] < mean - std:\n",
    "        return 0\n",
    "    else:\n",
    "        return np.nan\n",
    "\n",
    "df['boolean_rating'] = df.apply(label, axis=1)\n",
    "df = df.drop(columns=['user_rating'])"
   ]
  },
  {
   "cell_type": "code",
   "execution_count": 39,
   "id": "5abce8f0",
   "metadata": {},
   "outputs": [
    {
     "data": {
      "text/html": [
       "<div>\n",
       "<style scoped>\n",
       "    .dataframe tbody tr th:only-of-type {\n",
       "        vertical-align: middle;\n",
       "    }\n",
       "\n",
       "    .dataframe tbody tr th {\n",
       "        vertical-align: top;\n",
       "    }\n",
       "\n",
       "    .dataframe thead th {\n",
       "        text-align: right;\n",
       "    }\n",
       "</style>\n",
       "<table border=\"1\" class=\"dataframe\">\n",
       "  <thead>\n",
       "    <tr style=\"text-align: right;\">\n",
       "      <th></th>\n",
       "      <th>Action</th>\n",
       "      <th>Sci-Fi</th>\n",
       "      <th>Drama</th>\n",
       "      <th>Comedy</th>\n",
       "      <th>Adventure</th>\n",
       "      <th>Fantasy</th>\n",
       "      <th>Mystery</th>\n",
       "      <th>Psychological</th>\n",
       "      <th>Ecchi</th>\n",
       "      <th>Josei</th>\n",
       "      <th>...</th>\n",
       "      <th>Thriller</th>\n",
       "      <th>Police</th>\n",
       "      <th>Supernatural</th>\n",
       "      <th>Samurai</th>\n",
       "      <th>Shoujo Ai</th>\n",
       "      <th>Shounen Ai</th>\n",
       "      <th>Space</th>\n",
       "      <th>Vampire</th>\n",
       "      <th>Yuri</th>\n",
       "      <th>boolean_rating</th>\n",
       "    </tr>\n",
       "    <tr>\n",
       "      <th>anime_id</th>\n",
       "      <th></th>\n",
       "      <th></th>\n",
       "      <th></th>\n",
       "      <th></th>\n",
       "      <th></th>\n",
       "      <th></th>\n",
       "      <th></th>\n",
       "      <th></th>\n",
       "      <th></th>\n",
       "      <th></th>\n",
       "      <th></th>\n",
       "      <th></th>\n",
       "      <th></th>\n",
       "      <th></th>\n",
       "      <th></th>\n",
       "      <th></th>\n",
       "      <th></th>\n",
       "      <th></th>\n",
       "      <th></th>\n",
       "      <th></th>\n",
       "      <th></th>\n",
       "    </tr>\n",
       "  </thead>\n",
       "  <tbody>\n",
       "    <tr>\n",
       "      <th>28977</th>\n",
       "      <td>1</td>\n",
       "      <td>1</td>\n",
       "      <td>0</td>\n",
       "      <td>1</td>\n",
       "      <td>0</td>\n",
       "      <td>0</td>\n",
       "      <td>0</td>\n",
       "      <td>0</td>\n",
       "      <td>0</td>\n",
       "      <td>0</td>\n",
       "      <td>...</td>\n",
       "      <td>0</td>\n",
       "      <td>0</td>\n",
       "      <td>0</td>\n",
       "      <td>1</td>\n",
       "      <td>0</td>\n",
       "      <td>0</td>\n",
       "      <td>0</td>\n",
       "      <td>0</td>\n",
       "      <td>0</td>\n",
       "      <td>1.0</td>\n",
       "    </tr>\n",
       "    <tr>\n",
       "      <th>9253</th>\n",
       "      <td>0</td>\n",
       "      <td>1</td>\n",
       "      <td>0</td>\n",
       "      <td>0</td>\n",
       "      <td>0</td>\n",
       "      <td>0</td>\n",
       "      <td>0</td>\n",
       "      <td>0</td>\n",
       "      <td>0</td>\n",
       "      <td>0</td>\n",
       "      <td>...</td>\n",
       "      <td>1</td>\n",
       "      <td>0</td>\n",
       "      <td>0</td>\n",
       "      <td>0</td>\n",
       "      <td>0</td>\n",
       "      <td>0</td>\n",
       "      <td>0</td>\n",
       "      <td>0</td>\n",
       "      <td>0</td>\n",
       "      <td>1.0</td>\n",
       "    </tr>\n",
       "    <tr>\n",
       "      <th>820</th>\n",
       "      <td>0</td>\n",
       "      <td>1</td>\n",
       "      <td>1</td>\n",
       "      <td>0</td>\n",
       "      <td>0</td>\n",
       "      <td>0</td>\n",
       "      <td>0</td>\n",
       "      <td>0</td>\n",
       "      <td>0</td>\n",
       "      <td>0</td>\n",
       "      <td>...</td>\n",
       "      <td>0</td>\n",
       "      <td>0</td>\n",
       "      <td>0</td>\n",
       "      <td>0</td>\n",
       "      <td>0</td>\n",
       "      <td>0</td>\n",
       "      <td>1</td>\n",
       "      <td>0</td>\n",
       "      <td>0</td>\n",
       "      <td>1.0</td>\n",
       "    </tr>\n",
       "    <tr>\n",
       "      <th>4181</th>\n",
       "      <td>0</td>\n",
       "      <td>0</td>\n",
       "      <td>1</td>\n",
       "      <td>0</td>\n",
       "      <td>0</td>\n",
       "      <td>1</td>\n",
       "      <td>0</td>\n",
       "      <td>0</td>\n",
       "      <td>0</td>\n",
       "      <td>0</td>\n",
       "      <td>...</td>\n",
       "      <td>0</td>\n",
       "      <td>0</td>\n",
       "      <td>1</td>\n",
       "      <td>0</td>\n",
       "      <td>0</td>\n",
       "      <td>0</td>\n",
       "      <td>0</td>\n",
       "      <td>0</td>\n",
       "      <td>0</td>\n",
       "      <td>0.0</td>\n",
       "    </tr>\n",
       "    <tr>\n",
       "      <th>199</th>\n",
       "      <td>0</td>\n",
       "      <td>0</td>\n",
       "      <td>1</td>\n",
       "      <td>0</td>\n",
       "      <td>1</td>\n",
       "      <td>0</td>\n",
       "      <td>0</td>\n",
       "      <td>0</td>\n",
       "      <td>0</td>\n",
       "      <td>0</td>\n",
       "      <td>...</td>\n",
       "      <td>0</td>\n",
       "      <td>0</td>\n",
       "      <td>1</td>\n",
       "      <td>0</td>\n",
       "      <td>0</td>\n",
       "      <td>0</td>\n",
       "      <td>0</td>\n",
       "      <td>0</td>\n",
       "      <td>0</td>\n",
       "      <td>1.0</td>\n",
       "    </tr>\n",
       "  </tbody>\n",
       "</table>\n",
       "<p>5 rows × 44 columns</p>\n",
       "</div>"
      ],
      "text/plain": [
       "          Action  Sci-Fi  Drama  Comedy  Adventure  Fantasy  Mystery  \\\n",
       "anime_id                                                               \n",
       "28977          1       1      0       1          0        0        0   \n",
       "9253           0       1      0       0          0        0        0   \n",
       "820            0       1      1       0          0        0        0   \n",
       "4181           0       0      1       0          0        1        0   \n",
       "199            0       0      1       0          1        0        0   \n",
       "\n",
       "          Psychological  Ecchi  Josei  ...  Thriller  Police  Supernatural  \\\n",
       "anime_id                               ...                                   \n",
       "28977                 0      0      0  ...         0       0             0   \n",
       "9253                  0      0      0  ...         1       0             0   \n",
       "820                   0      0      0  ...         0       0             0   \n",
       "4181                  0      0      0  ...         0       0             1   \n",
       "199                   0      0      0  ...         0       0             1   \n",
       "\n",
       "          Samurai  Shoujo Ai  Shounen Ai  Space  Vampire  Yuri  boolean_rating  \n",
       "anime_id                                                                        \n",
       "28977           1          0           0      0        0     0             1.0  \n",
       "9253            0          0           0      0        0     0             1.0  \n",
       "820             0          0           0      1        0     0             1.0  \n",
       "4181            0          0           0      0        0     0             0.0  \n",
       "199             0          0           0      0        0     0             1.0  \n",
       "\n",
       "[5 rows x 44 columns]"
      ]
     },
     "execution_count": 39,
     "metadata": {},
     "output_type": "execute_result"
    }
   ],
   "source": [
    "# After created boolean_rating column, we got a lot na values\n",
    "# df.isna().sum()\n",
    "\n",
    "df = df.dropna(subset=['boolean_rating'])\n",
    "df.head()"
   ]
  },
  {
   "cell_type": "markdown",
   "id": "a4a1814f",
   "metadata": {},
   "source": [
    "#### Train | Test Split"
   ]
  },
  {
   "cell_type": "code",
   "execution_count": 40,
   "id": "738a89c0",
   "metadata": {},
   "outputs": [],
   "source": [
    "from sklearn.model_selection import train_test_split\n",
    "\n",
    "X = df.drop('boolean_rating', axis=1)\n",
    "y = df['boolean_rating']\n",
    "\n",
    "X_train, X_test, y_train, y_test = train_test_split(X, y, test_size=0.2, random_state=42)"
   ]
  },
  {
   "cell_type": "code",
   "execution_count": 41,
   "id": "4ef2ad7e",
   "metadata": {},
   "outputs": [],
   "source": [
    "# X_train.iloc[0]"
   ]
  },
  {
   "cell_type": "code",
   "execution_count": 42,
   "id": "2761b543",
   "metadata": {},
   "outputs": [],
   "source": [
    "from sklearn.metrics import accuracy_score, confusion_matrix, classification_report\n",
    "from IPython.display import Markdown, display\n",
    "\n",
    "def printmd(string):\n",
    "    display(Markdown(string))\n",
    "\n",
    "def print_score(model, X_train, y_train, X_test, y_test, train=True):\n",
    "    if train:\n",
    "        preds = model.predict(X_train)\n",
    "        model_report = pd.DataFrame(classification_report(y_train, preds, output_dict=True))\n",
    "        printmd(\"<b style='font-size:16px'>Train Result: </b> \\n\")\n",
    "        print(f\"Accuracy Score: {accuracy_score(y_train, preds) * 100:.2f}%\")\n",
    "        print(\"-\"*66)\n",
    "        print(f\"Classification Report: \\n {model_report}\")\n",
    "        print(\"-\"*66)\n",
    "        print(f\"Confusion Matrix: \\n {confusion_matrix(y_train, preds)}\")\n",
    "    elif train == False:\n",
    "        preds = model.predict(X_test)\n",
    "        model_report = pd.DataFrame(classification_report(y_test, preds, output_dict=True))\n",
    "        printmd(\"<b style='font-size:16px'>Test Result: </b> \\n\")\n",
    "        print(f\"Accuracy Score: {accuracy_score(y_test, preds) * 100:.2f}%\")\n",
    "        print(\"-\"*66)\n",
    "        print(f\"Classification Report: \\n {model_report}\")\n",
    "        print(\"-\"*66)\n",
    "        print(f\"Confusion Matrix: \\n {confusion_matrix(y_test, preds)} \\n\")"
   ]
  },
  {
   "cell_type": "markdown",
   "id": "44c78e70",
   "metadata": {},
   "source": [
    "## Logistic Regression"
   ]
  },
  {
   "cell_type": "code",
   "execution_count": 43,
   "id": "a46f40b3",
   "metadata": {},
   "outputs": [
    {
     "data": {
      "text/markdown": [
       "<b style='font-size:16px'>Train Result: </b> \n"
      ],
      "text/plain": [
       "<IPython.core.display.Markdown object>"
      ]
     },
     "metadata": {},
     "output_type": "display_data"
    },
    {
     "name": "stdout",
     "output_type": "stream",
     "text": [
      "Accuracy Score: 80.30%\n",
      "------------------------------------------------------------------\n",
      "Classification Report: \n",
      "                   0.0         1.0  accuracy    macro avg  weighted avg\n",
      "precision    0.825166    0.751534   0.80296     0.788350      0.799486\n",
      "recall       0.884943    0.649867   0.80296     0.767405      0.802960\n",
      "f1-score     0.854010    0.697013   0.80296     0.775511      0.799257\n",
      "support    704.000000  377.000000   0.80296  1081.000000   1081.000000\n",
      "------------------------------------------------------------------\n",
      "Confusion Matrix: \n",
      " [[623  81]\n",
      " [132 245]]\n"
     ]
    },
    {
     "data": {
      "text/markdown": [
       "<b style='font-size:16px'>Test Result: </b> \n"
      ],
      "text/plain": [
       "<IPython.core.display.Markdown object>"
      ]
     },
     "metadata": {},
     "output_type": "display_data"
    },
    {
     "name": "stdout",
     "output_type": "stream",
     "text": [
      "Accuracy Score: 76.01%\n",
      "------------------------------------------------------------------\n",
      "Classification Report: \n",
      "                   0.0        1.0  accuracy   macro avg  weighted avg\n",
      "precision    0.785340   0.700000  0.760148    0.742670      0.754794\n",
      "recall       0.862069   0.577320  0.760148    0.719694      0.760148\n",
      "f1-score     0.821918   0.632768  0.760148    0.727343      0.754215\n",
      "support    174.000000  97.000000  0.760148  271.000000    271.000000\n",
      "------------------------------------------------------------------\n",
      "Confusion Matrix: \n",
      " [[150  24]\n",
      " [ 41  56]] \n",
      "\n"
     ]
    }
   ],
   "source": [
    "from sklearn.linear_model import LogisticRegression\n",
    "\n",
    "log_model = LogisticRegression()\n",
    "log_model.fit(X_train, y_train)\n",
    "\n",
    "print_score(log_model, X_train, y_train, X_test, y_test, train=True)\n",
    "print_score(log_model, X_train, y_train, X_test, y_test, train=False)"
   ]
  },
  {
   "cell_type": "markdown",
   "id": "f220dc01",
   "metadata": {},
   "source": [
    "## KNN - KNeighbors"
   ]
  },
  {
   "cell_type": "code",
   "execution_count": 44,
   "id": "794ce467",
   "metadata": {},
   "outputs": [
    {
     "data": {
      "text/markdown": [
       "<b style='font-size:16px'>Train Result: </b> \n"
      ],
      "text/plain": [
       "<IPython.core.display.Markdown object>"
      ]
     },
     "metadata": {},
     "output_type": "display_data"
    },
    {
     "name": "stdout",
     "output_type": "stream",
     "text": [
      "Accuracy Score: 83.44%\n",
      "------------------------------------------------------------------\n",
      "Classification Report: \n",
      "                   0.0         1.0  accuracy    macro avg  weighted avg\n",
      "precision    0.849534    0.800000  0.834413     0.824767      0.832259\n",
      "recall       0.906250    0.700265  0.834413     0.803258      0.834413\n",
      "f1-score     0.876976    0.746818  0.834413     0.811897      0.831583\n",
      "support    704.000000  377.000000  0.834413  1081.000000   1081.000000\n",
      "------------------------------------------------------------------\n",
      "Confusion Matrix: \n",
      " [[638  66]\n",
      " [113 264]]\n"
     ]
    },
    {
     "data": {
      "text/markdown": [
       "<b style='font-size:16px'>Test Result: </b> \n"
      ],
      "text/plain": [
       "<IPython.core.display.Markdown object>"
      ]
     },
     "metadata": {},
     "output_type": "display_data"
    },
    {
     "name": "stdout",
     "output_type": "stream",
     "text": [
      "Accuracy Score: 78.60%\n",
      "------------------------------------------------------------------\n",
      "Classification Report: \n",
      "                   0.0        1.0  accuracy   macro avg  weighted avg\n",
      "precision    0.815217   0.724138  0.785978    0.769678      0.782617\n",
      "recall       0.862069   0.649485  0.785978    0.755777      0.785978\n",
      "f1-score     0.837989   0.684783  0.785978    0.761386      0.783151\n",
      "support    174.000000  97.000000  0.785978  271.000000    271.000000\n",
      "------------------------------------------------------------------\n",
      "Confusion Matrix: \n",
      " [[150  24]\n",
      " [ 34  63]] \n",
      "\n"
     ]
    }
   ],
   "source": [
    "from sklearn.neighbors import KNeighborsClassifier\n",
    "\n",
    "knn_model = KNeighborsClassifier()\n",
    "knn_model.fit(X_train, y_train)\n",
    "\n",
    "print_score(knn_model, X_train, y_train, X_test, y_test, train=True)\n",
    "print_score(knn_model, X_train, y_train, X_test, y_test, train=False)"
   ]
  },
  {
   "cell_type": "markdown",
   "id": "f3c929de",
   "metadata": {},
   "source": [
    "## Support Vector Machine "
   ]
  },
  {
   "cell_type": "code",
   "execution_count": 45,
   "id": "f25be4aa",
   "metadata": {},
   "outputs": [
    {
     "data": {
      "text/markdown": [
       "<b style='font-size:16px'>Train Result: </b> \n"
      ],
      "text/plain": [
       "<IPython.core.display.Markdown object>"
      ]
     },
     "metadata": {},
     "output_type": "display_data"
    },
    {
     "name": "stdout",
     "output_type": "stream",
     "text": [
      "Accuracy Score: 82.70%\n",
      "------------------------------------------------------------------\n",
      "Classification Report: \n",
      "                   0.0         1.0  accuracy    macro avg  weighted avg\n",
      "precision    0.829299    0.820946  0.827012     0.825123      0.826386\n",
      "recall       0.924716    0.644562  0.827012     0.784639      0.827012\n",
      "f1-score     0.874412    0.722140  0.827012     0.798276      0.821307\n",
      "support    704.000000  377.000000  0.827012  1081.000000   1081.000000\n",
      "------------------------------------------------------------------\n",
      "Confusion Matrix: \n",
      " [[651  53]\n",
      " [134 243]]\n"
     ]
    },
    {
     "data": {
      "text/markdown": [
       "<b style='font-size:16px'>Test Result: </b> \n"
      ],
      "text/plain": [
       "<IPython.core.display.Markdown object>"
      ]
     },
     "metadata": {},
     "output_type": "display_data"
    },
    {
     "name": "stdout",
     "output_type": "stream",
     "text": [
      "Accuracy Score: 74.91%\n",
      "------------------------------------------------------------------\n",
      "Classification Report: \n",
      "                   0.0        1.0  accuracy   macro avg  weighted avg\n",
      "precision    0.762376   0.710145  0.749077    0.736261      0.743681\n",
      "recall       0.885057   0.505155  0.749077    0.695106      0.749077\n",
      "f1-score     0.819149   0.590361  0.749077    0.704755      0.737258\n",
      "support    174.000000  97.000000  0.749077  271.000000    271.000000\n",
      "------------------------------------------------------------------\n",
      "Confusion Matrix: \n",
      " [[154  20]\n",
      " [ 48  49]] \n",
      "\n"
     ]
    }
   ],
   "source": [
    "from sklearn.svm import SVC\n",
    "\n",
    "svm_model = SVC(kernel='rbf', gamma=0.1, C=1.0)\n",
    "svm_model.fit(X_train, y_train)\n",
    "\n",
    "print_score(svm_model, X_train, y_train, X_test, y_test, train=True)\n",
    "print_score(svm_model, X_train, y_train, X_test, y_test, train=False)"
   ]
  },
  {
   "cell_type": "markdown",
   "id": "02732ce2",
   "metadata": {},
   "source": [
    "## Decision Tree"
   ]
  },
  {
   "cell_type": "code",
   "execution_count": 46,
   "id": "3ecce8c4",
   "metadata": {},
   "outputs": [
    {
     "data": {
      "text/markdown": [
       "<b style='font-size:16px'>Train Result: </b> \n"
      ],
      "text/plain": [
       "<IPython.core.display.Markdown object>"
      ]
     },
     "metadata": {},
     "output_type": "display_data"
    },
    {
     "name": "stdout",
     "output_type": "stream",
     "text": [
      "Accuracy Score: 94.91%\n",
      "------------------------------------------------------------------\n",
      "Classification Report: \n",
      "                   0.0         1.0  accuracy    macro avg  weighted avg\n",
      "precision    0.936743    0.976331  0.949121     0.956537      0.950549\n",
      "recall       0.988636    0.875332  0.949121     0.931984      0.949121\n",
      "f1-score     0.961990    0.923077  0.949121     0.942534      0.948419\n",
      "support    704.000000  377.000000  0.949121  1081.000000   1081.000000\n",
      "------------------------------------------------------------------\n",
      "Confusion Matrix: \n",
      " [[696   8]\n",
      " [ 47 330]]\n"
     ]
    },
    {
     "data": {
      "text/markdown": [
       "<b style='font-size:16px'>Test Result: </b> \n"
      ],
      "text/plain": [
       "<IPython.core.display.Markdown object>"
      ]
     },
     "metadata": {},
     "output_type": "display_data"
    },
    {
     "name": "stdout",
     "output_type": "stream",
     "text": [
      "Accuracy Score: 78.60%\n",
      "------------------------------------------------------------------\n",
      "Classification Report: \n",
      "                   0.0        1.0  accuracy   macro avg  weighted avg\n",
      "precision    0.818681   0.719101  0.785978    0.768891      0.783038\n",
      "recall       0.856322   0.659794  0.785978    0.758058      0.785978\n",
      "f1-score     0.837079   0.688172  0.785978    0.762625      0.783780\n",
      "support    174.000000  97.000000  0.785978  271.000000    271.000000\n",
      "------------------------------------------------------------------\n",
      "Confusion Matrix: \n",
      " [[149  25]\n",
      " [ 33  64]] \n",
      "\n"
     ]
    }
   ],
   "source": [
    "from sklearn.tree import DecisionTreeClassifier\n",
    "\n",
    "dt_model = DecisionTreeClassifier(random_state=42)\n",
    "dt_model.fit(X_train, y_train)\n",
    "\n",
    "print_score(dt_model, X_train, y_train, X_test, y_test, train=True)\n",
    "print_score(dt_model, X_train, y_train, X_test, y_test, train=False)"
   ]
  },
  {
   "cell_type": "markdown",
   "id": "1b95fad0",
   "metadata": {},
   "source": [
    "## Random Forest"
   ]
  },
  {
   "cell_type": "code",
   "execution_count": 47,
   "id": "7c6c791b",
   "metadata": {},
   "outputs": [
    {
     "data": {
      "text/markdown": [
       "<b style='font-size:16px'>Train Result: </b> \n"
      ],
      "text/plain": [
       "<IPython.core.display.Markdown object>"
      ]
     },
     "metadata": {},
     "output_type": "display_data"
    },
    {
     "name": "stdout",
     "output_type": "stream",
     "text": [
      "Accuracy Score: 94.82%\n",
      "------------------------------------------------------------------\n",
      "Classification Report: \n",
      "                   0.0         1.0  accuracy    macro avg  weighted avg\n",
      "precision    0.941417    0.962536  0.948196     0.951976      0.948782\n",
      "recall       0.981534    0.885942  0.948196     0.933738      0.948196\n",
      "f1-score     0.961057    0.922652  0.948196     0.941854      0.947663\n",
      "support    704.000000  377.000000  0.948196  1081.000000   1081.000000\n",
      "------------------------------------------------------------------\n",
      "Confusion Matrix: \n",
      " [[691  13]\n",
      " [ 43 334]]\n"
     ]
    },
    {
     "data": {
      "text/markdown": [
       "<b style='font-size:16px'>Test Result: </b> \n"
      ],
      "text/plain": [
       "<IPython.core.display.Markdown object>"
      ]
     },
     "metadata": {},
     "output_type": "display_data"
    },
    {
     "name": "stdout",
     "output_type": "stream",
     "text": [
      "Accuracy Score: 82.66%\n",
      "------------------------------------------------------------------\n",
      "Classification Report: \n",
      "                   0.0        1.0  accuracy   macro avg  weighted avg\n",
      "precision    0.835979   0.804878  0.826568    0.820428      0.824847\n",
      "recall       0.908046   0.680412  0.826568    0.794229      0.826568\n",
      "f1-score     0.870523   0.737430  0.826568    0.803977      0.822885\n",
      "support    174.000000  97.000000  0.826568  271.000000    271.000000\n",
      "------------------------------------------------------------------\n",
      "Confusion Matrix: \n",
      " [[158  16]\n",
      " [ 31  66]] \n",
      "\n"
     ]
    }
   ],
   "source": [
    "from sklearn.ensemble import RandomForestClassifier\n",
    "\n",
    "rf_model = RandomForestClassifier(n_estimators=100, random_state=42)\n",
    "rf_model.fit(X_train, y_train)\n",
    "\n",
    "print_score(rf_model, X_train, y_train, X_test, y_test, train=True)\n",
    "print_score(rf_model, X_train, y_train, X_test, y_test, train=False)"
   ]
  },
  {
   "cell_type": "markdown",
   "id": "0eb2cdd4",
   "metadata": {},
   "source": [
    "## Ada Boost"
   ]
  },
  {
   "cell_type": "code",
   "execution_count": 48,
   "id": "7837889d",
   "metadata": {},
   "outputs": [
    {
     "data": {
      "text/markdown": [
       "<b style='font-size:16px'>Train Result: </b> \n"
      ],
      "text/plain": [
       "<IPython.core.display.Markdown object>"
      ]
     },
     "metadata": {},
     "output_type": "display_data"
    },
    {
     "name": "stdout",
     "output_type": "stream",
     "text": [
      "Accuracy Score: 69.94%\n",
      "------------------------------------------------------------------\n",
      "Classification Report: \n",
      "                   0.0         1.0  accuracy    macro avg  weighted avg\n",
      "precision    0.726946    0.605691  0.699352     0.666319      0.684658\n",
      "recall       0.862216    0.395225  0.699352     0.628721      0.699352\n",
      "f1-score     0.788824    0.478331  0.699352     0.633577      0.680539\n",
      "support    704.000000  377.000000  0.699352  1081.000000   1081.000000\n",
      "------------------------------------------------------------------\n",
      "Confusion Matrix: \n",
      " [[607  97]\n",
      " [228 149]]\n"
     ]
    },
    {
     "data": {
      "text/markdown": [
       "<b style='font-size:16px'>Test Result: </b> \n"
      ],
      "text/plain": [
       "<IPython.core.display.Markdown object>"
      ]
     },
     "metadata": {},
     "output_type": "display_data"
    },
    {
     "name": "stdout",
     "output_type": "stream",
     "text": [
      "Accuracy Score: 70.11%\n",
      "------------------------------------------------------------------\n",
      "Classification Report: \n",
      "                   0.0        1.0  accuracy   macro avg  weighted avg\n",
      "precision    0.714286   0.648148  0.701107    0.681217      0.690613\n",
      "recall       0.890805   0.360825  0.701107    0.625815      0.701107\n",
      "f1-score     0.792839   0.463576  0.701107    0.628208      0.674985\n",
      "support    174.000000  97.000000  0.701107  271.000000    271.000000\n",
      "------------------------------------------------------------------\n",
      "Confusion Matrix: \n",
      " [[155  19]\n",
      " [ 62  35]] \n",
      "\n"
     ]
    }
   ],
   "source": [
    "from sklearn.ensemble import AdaBoostClassifier\n",
    "\n",
    "ada_model = AdaBoostClassifier(n_estimators=1)\n",
    "ada_model.fit(X_train, y_train)\n",
    "\n",
    "print_score(ada_model, X_train, y_train, X_test, y_test, train=True)\n",
    "print_score(ada_model, X_train, y_train, X_test, y_test, train=False)"
   ]
  },
  {
   "cell_type": "markdown",
   "id": "609dc82c",
   "metadata": {},
   "source": [
    "## Model Testing"
   ]
  },
  {
   "cell_type": "code",
   "execution_count": 49,
   "id": "1391e6f5",
   "metadata": {},
   "outputs": [
    {
     "name": "stdout",
     "output_type": "stream",
     "text": [
      "Sample test data: \n",
      "          Action  Sci-Fi  Drama  Comedy  Adventure  Fantasy  Mystery  \\\n",
      "anime_id                                                               \n",
      "32             0       1      1       0          0        0        0   \n",
      "9776           0       0      0       1          0        0        0   \n",
      "9423           0       0      0       0          0        0        0   \n",
      "4262           1       0      0       0          1        1        0   \n",
      "17345          0       0      0       0          0        0        0   \n",
      "\n",
      "          Psychological  Ecchi  Josei  ...  Yaoi  Thriller  Police  \\\n",
      "anime_id                               ...                           \n",
      "32                    1      0      0  ...     0         0       0   \n",
      "9776                  0      0      0  ...     0         0       0   \n",
      "9423                  0      0      0  ...     0         0       0   \n",
      "4262                  0      0      0  ...     0         0       0   \n",
      "17345                 0      1      0  ...     0         0       0   \n",
      "\n",
      "          Supernatural  Samurai  Shoujo Ai  Shounen Ai  Space  Vampire  Yuri  \n",
      "anime_id                                                                      \n",
      "32                   0        0          0           0      0        0     0  \n",
      "9776                 0        0          0           0      0        0     0  \n",
      "9423                 0        0          0           0      0        0     0  \n",
      "4262                 0        0          0           0      0        0     0  \n",
      "17345                0        0          0           0      0        0     0  \n",
      "\n",
      "[5 rows x 43 columns]\n"
     ]
    }
   ],
   "source": [
    "test_data_sample = X_test.iloc[:5]\n",
    "print(\"Sample test data: \")\n",
    "print(test_data_sample)"
   ]
  },
  {
   "cell_type": "code",
   "execution_count": 50,
   "id": "89f2acb3",
   "metadata": {},
   "outputs": [
    {
     "name": "stdout",
     "output_type": "stream",
     "text": [
      "Expected output for test data: \n",
      "anime_id\n",
      "32       1.0\n",
      "9776     0.0\n",
      "9423     1.0\n",
      "4262     0.0\n",
      "17345    0.0\n",
      "Name: boolean_rating, dtype: float64\n"
     ]
    }
   ],
   "source": [
    "expected_output_sample = y_test.iloc[:5]\n",
    "print(\"Expected output for test data: \")\n",
    "print(expected_output_sample)"
   ]
  },
  {
   "cell_type": "code",
   "execution_count": 51,
   "id": "7c0d26a5",
   "metadata": {},
   "outputs": [
    {
     "name": "stdout",
     "output_type": "stream",
     "text": [
      "Predicted output for test data: \n",
      "[1. 0. 0. 1. 0.]\n"
     ]
    }
   ],
   "source": [
    "predicted_output_sample = log_model.predict(test_data_sample)\n",
    "print(\"Predicted output for test data: \")\n",
    "print(predicted_output_sample)"
   ]
  },
  {
   "cell_type": "code",
   "execution_count": 52,
   "id": "d8cba8fb",
   "metadata": {},
   "outputs": [
    {
     "data": {
      "text/plain": [
       "LogisticRegression()"
      ]
     },
     "execution_count": 52,
     "metadata": {},
     "output_type": "execute_result"
    }
   ],
   "source": [
    "final_model = LogisticRegression()\n",
    "final_model.fit(X,y)"
   ]
  },
  {
   "cell_type": "code",
   "execution_count": 53,
   "id": "63d529e0",
   "metadata": {},
   "outputs": [
    {
     "data": {
      "text/plain": [
       "['final_model.pkl']"
      ]
     },
     "execution_count": 53,
     "metadata": {},
     "output_type": "execute_result"
    }
   ],
   "source": [
    "import joblib\n",
    "\n",
    "joblib.dump(final_model, 'final_model.pkl')"
   ]
  },
  {
   "cell_type": "code",
   "execution_count": 54,
   "id": "3283eca1",
   "metadata": {},
   "outputs": [],
   "source": [
    "# list(X.columns)"
   ]
  },
  {
   "cell_type": "code",
   "execution_count": 55,
   "id": "21986ffb",
   "metadata": {},
   "outputs": [
    {
     "data": {
      "text/plain": [
       "['col_names.pkl']"
      ]
     },
     "execution_count": 55,
     "metadata": {},
     "output_type": "execute_result"
    }
   ],
   "source": [
    "joblib.dump(list(X.columns), 'col_names.pkl')"
   ]
  },
  {
   "cell_type": "markdown",
   "id": "d2f4e1e6",
   "metadata": {},
   "source": [
    "### Loading Model"
   ]
  },
  {
   "cell_type": "code",
   "execution_count": 56,
   "id": "120b44bb",
   "metadata": {},
   "outputs": [],
   "source": [
    "new_cols = joblib.load('col_names.pkl')\n",
    "# new_cols"
   ]
  },
  {
   "cell_type": "code",
   "execution_count": 57,
   "id": "157fe736",
   "metadata": {},
   "outputs": [],
   "source": [
    "loaded_model = joblib.load('final_model.pkl')"
   ]
  },
  {
   "cell_type": "code",
   "execution_count": 58,
   "id": "de894ece",
   "metadata": {},
   "outputs": [
    {
     "data": {
      "text/html": [
       "<div>\n",
       "<style scoped>\n",
       "    .dataframe tbody tr th:only-of-type {\n",
       "        vertical-align: middle;\n",
       "    }\n",
       "\n",
       "    .dataframe tbody tr th {\n",
       "        vertical-align: top;\n",
       "    }\n",
       "\n",
       "    .dataframe thead th {\n",
       "        text-align: right;\n",
       "    }\n",
       "</style>\n",
       "<table border=\"1\" class=\"dataframe\">\n",
       "  <thead>\n",
       "    <tr style=\"text-align: right;\">\n",
       "      <th></th>\n",
       "      <th>Action</th>\n",
       "      <th>Sci-Fi</th>\n",
       "      <th>Drama</th>\n",
       "      <th>Comedy</th>\n",
       "      <th>Adventure</th>\n",
       "      <th>Fantasy</th>\n",
       "      <th>Mystery</th>\n",
       "      <th>Psychological</th>\n",
       "      <th>Ecchi</th>\n",
       "      <th>Josei</th>\n",
       "      <th>...</th>\n",
       "      <th>Yaoi</th>\n",
       "      <th>Thriller</th>\n",
       "      <th>Police</th>\n",
       "      <th>Supernatural</th>\n",
       "      <th>Samurai</th>\n",
       "      <th>Shoujo Ai</th>\n",
       "      <th>Shounen Ai</th>\n",
       "      <th>Space</th>\n",
       "      <th>Vampire</th>\n",
       "      <th>Yuri</th>\n",
       "    </tr>\n",
       "    <tr>\n",
       "      <th>anime_id</th>\n",
       "      <th></th>\n",
       "      <th></th>\n",
       "      <th></th>\n",
       "      <th></th>\n",
       "      <th></th>\n",
       "      <th></th>\n",
       "      <th></th>\n",
       "      <th></th>\n",
       "      <th></th>\n",
       "      <th></th>\n",
       "      <th></th>\n",
       "      <th></th>\n",
       "      <th></th>\n",
       "      <th></th>\n",
       "      <th></th>\n",
       "      <th></th>\n",
       "      <th></th>\n",
       "      <th></th>\n",
       "      <th></th>\n",
       "      <th></th>\n",
       "      <th></th>\n",
       "    </tr>\n",
       "  </thead>\n",
       "  <tbody>\n",
       "    <tr>\n",
       "      <th>32</th>\n",
       "      <td>0</td>\n",
       "      <td>1</td>\n",
       "      <td>1</td>\n",
       "      <td>0</td>\n",
       "      <td>0</td>\n",
       "      <td>0</td>\n",
       "      <td>0</td>\n",
       "      <td>1</td>\n",
       "      <td>0</td>\n",
       "      <td>0</td>\n",
       "      <td>...</td>\n",
       "      <td>0</td>\n",
       "      <td>0</td>\n",
       "      <td>0</td>\n",
       "      <td>0</td>\n",
       "      <td>0</td>\n",
       "      <td>0</td>\n",
       "      <td>0</td>\n",
       "      <td>0</td>\n",
       "      <td>0</td>\n",
       "      <td>0</td>\n",
       "    </tr>\n",
       "  </tbody>\n",
       "</table>\n",
       "<p>1 rows × 43 columns</p>\n",
       "</div>"
      ],
      "text/plain": [
       "          Action  Sci-Fi  Drama  Comedy  Adventure  Fantasy  Mystery  \\\n",
       "anime_id                                                               \n",
       "32             0       1      1       0          0        0        0   \n",
       "\n",
       "          Psychological  Ecchi  Josei  ...  Yaoi  Thriller  Police  \\\n",
       "anime_id                               ...                           \n",
       "32                    1      0      0  ...     0         0       0   \n",
       "\n",
       "          Supernatural  Samurai  Shoujo Ai  Shounen Ai  Space  Vampire  Yuri  \n",
       "anime_id                                                                      \n",
       "32                   0        0          0           0      0        0     0  \n",
       "\n",
       "[1 rows x 43 columns]"
      ]
     },
     "execution_count": 58,
     "metadata": {},
     "output_type": "execute_result"
    }
   ],
   "source": [
    "test_anime_id_32 = X_test.iloc[:1]\n",
    "test_anime_id_32"
   ]
  },
  {
   "cell_type": "code",
   "execution_count": 59,
   "id": "ba87dda8",
   "metadata": {},
   "outputs": [
    {
     "data": {
      "text/plain": [
       "array([1.])"
      ]
     },
     "execution_count": 59,
     "metadata": {},
     "output_type": "execute_result"
    }
   ],
   "source": [
    "# Testing on anime_id 32\n",
    "loaded_model.predict(test_anime_id_32)"
   ]
  },
  {
   "cell_type": "markdown",
   "id": "87c602bf",
   "metadata": {},
   "source": [
    "#  ---------------------------- Recommendation System  ---------------------------- #\n",
    "\n",
    "    \n"
   ]
  },
  {
   "cell_type": "markdown",
   "id": "a6041fa8",
   "metadata": {},
   "source": [
    "#### Extract number of reviews\n",
    "    This will help us in building recommendation system"
   ]
  },
  {
   "cell_type": "code",
   "execution_count": 60,
   "id": "2cfb21d5",
   "metadata": {},
   "outputs": [
    {
     "data": {
      "text/html": [
       "<div>\n",
       "<style scoped>\n",
       "    .dataframe tbody tr th:only-of-type {\n",
       "        vertical-align: middle;\n",
       "    }\n",
       "\n",
       "    .dataframe tbody tr th {\n",
       "        vertical-align: top;\n",
       "    }\n",
       "\n",
       "    .dataframe thead th {\n",
       "        text-align: right;\n",
       "    }\n",
       "</style>\n",
       "<table border=\"1\" class=\"dataframe\">\n",
       "  <thead>\n",
       "    <tr style=\"text-align: right;\">\n",
       "      <th></th>\n",
       "      <th>anime_id</th>\n",
       "      <th>name</th>\n",
       "      <th>genre</th>\n",
       "      <th>type</th>\n",
       "      <th>episodes</th>\n",
       "      <th>rating</th>\n",
       "      <th>members</th>\n",
       "      <th>user_id</th>\n",
       "      <th>user_rating</th>\n",
       "      <th>review_count</th>\n",
       "    </tr>\n",
       "  </thead>\n",
       "  <tbody>\n",
       "    <tr>\n",
       "      <th>0</th>\n",
       "      <td>32281</td>\n",
       "      <td>Kimi no Na wa.</td>\n",
       "      <td>Drama, Romance, School, Supernatural</td>\n",
       "      <td>Movie</td>\n",
       "      <td>1</td>\n",
       "      <td>9.37</td>\n",
       "      <td>200630</td>\n",
       "      <td>99</td>\n",
       "      <td>5.0</td>\n",
       "      <td>1961</td>\n",
       "    </tr>\n",
       "    <tr>\n",
       "      <th>1</th>\n",
       "      <td>32281</td>\n",
       "      <td>Kimi no Na wa.</td>\n",
       "      <td>Drama, Romance, School, Supernatural</td>\n",
       "      <td>Movie</td>\n",
       "      <td>1</td>\n",
       "      <td>9.37</td>\n",
       "      <td>200630</td>\n",
       "      <td>152</td>\n",
       "      <td>10.0</td>\n",
       "      <td>1961</td>\n",
       "    </tr>\n",
       "    <tr>\n",
       "      <th>2</th>\n",
       "      <td>32281</td>\n",
       "      <td>Kimi no Na wa.</td>\n",
       "      <td>Drama, Romance, School, Supernatural</td>\n",
       "      <td>Movie</td>\n",
       "      <td>1</td>\n",
       "      <td>9.37</td>\n",
       "      <td>200630</td>\n",
       "      <td>244</td>\n",
       "      <td>10.0</td>\n",
       "      <td>1961</td>\n",
       "    </tr>\n",
       "    <tr>\n",
       "      <th>3</th>\n",
       "      <td>32281</td>\n",
       "      <td>Kimi no Na wa.</td>\n",
       "      <td>Drama, Romance, School, Supernatural</td>\n",
       "      <td>Movie</td>\n",
       "      <td>1</td>\n",
       "      <td>9.37</td>\n",
       "      <td>200630</td>\n",
       "      <td>271</td>\n",
       "      <td>10.0</td>\n",
       "      <td>1961</td>\n",
       "    </tr>\n",
       "    <tr>\n",
       "      <th>4</th>\n",
       "      <td>32281</td>\n",
       "      <td>Kimi no Na wa.</td>\n",
       "      <td>Drama, Romance, School, Supernatural</td>\n",
       "      <td>Movie</td>\n",
       "      <td>1</td>\n",
       "      <td>9.37</td>\n",
       "      <td>200630</td>\n",
       "      <td>322</td>\n",
       "      <td>10.0</td>\n",
       "      <td>1961</td>\n",
       "    </tr>\n",
       "  </tbody>\n",
       "</table>\n",
       "</div>"
      ],
      "text/plain": [
       "   anime_id            name                                 genre   type  \\\n",
       "0     32281  Kimi no Na wa.  Drama, Romance, School, Supernatural  Movie   \n",
       "1     32281  Kimi no Na wa.  Drama, Romance, School, Supernatural  Movie   \n",
       "2     32281  Kimi no Na wa.  Drama, Romance, School, Supernatural  Movie   \n",
       "3     32281  Kimi no Na wa.  Drama, Romance, School, Supernatural  Movie   \n",
       "4     32281  Kimi no Na wa.  Drama, Romance, School, Supernatural  Movie   \n",
       "\n",
       "  episodes  rating  members  user_id  user_rating  review_count  \n",
       "0        1    9.37   200630       99          5.0          1961  \n",
       "1        1    9.37   200630      152         10.0          1961  \n",
       "2        1    9.37   200630      244         10.0          1961  \n",
       "3        1    9.37   200630      271         10.0          1961  \n",
       "4        1    9.37   200630      322         10.0          1961  "
      ]
     },
     "execution_count": 60,
     "metadata": {},
     "output_type": "execute_result"
    }
   ],
   "source": [
    "# Extract review count\n",
    "review_count = data.groupby('anime_id').size().reset_index()\n",
    "review_count.columns = ['anime_id', 'review_count']\n",
    "\n",
    "# Merge review count into original data\n",
    "data = data.merge(review_count, on='anime_id')\n",
    "\n",
    "data.head()"
   ]
  },
  {
   "cell_type": "markdown",
   "id": "dfdd8184",
   "metadata": {},
   "source": [
    "### 1. Avg Weighted Technique & Popularity\n",
    "\n",
    "#### Recommendation by Avg Weight Rating (Considering both rating & no. of reviews)"
   ]
  },
  {
   "cell_type": "code",
   "execution_count": 61,
   "id": "e954b130",
   "metadata": {},
   "outputs": [
    {
     "data": {
      "text/html": [
       "<div>\n",
       "<style scoped>\n",
       "    .dataframe tbody tr th:only-of-type {\n",
       "        vertical-align: middle;\n",
       "    }\n",
       "\n",
       "    .dataframe tbody tr th {\n",
       "        vertical-align: top;\n",
       "    }\n",
       "\n",
       "    .dataframe thead th {\n",
       "        text-align: right;\n",
       "    }\n",
       "</style>\n",
       "<table border=\"1\" class=\"dataframe\">\n",
       "  <thead>\n",
       "    <tr style=\"text-align: right;\">\n",
       "      <th></th>\n",
       "      <th>anime_id</th>\n",
       "      <th>name</th>\n",
       "      <th>rating</th>\n",
       "      <th>review_count</th>\n",
       "      <th>members</th>\n",
       "    </tr>\n",
       "  </thead>\n",
       "  <tbody>\n",
       "    <tr>\n",
       "      <th>0</th>\n",
       "      <td>1</td>\n",
       "      <td>Cowboy Bebop</td>\n",
       "      <td>8.82</td>\n",
       "      <td>13449</td>\n",
       "      <td>486824</td>\n",
       "    </tr>\n",
       "    <tr>\n",
       "      <th>1</th>\n",
       "      <td>5</td>\n",
       "      <td>Cowboy Bebop: Tengoku no Tobira</td>\n",
       "      <td>8.40</td>\n",
       "      <td>5790</td>\n",
       "      <td>137636</td>\n",
       "    </tr>\n",
       "    <tr>\n",
       "      <th>2</th>\n",
       "      <td>6</td>\n",
       "      <td>Trigun</td>\n",
       "      <td>8.32</td>\n",
       "      <td>9385</td>\n",
       "      <td>283069</td>\n",
       "    </tr>\n",
       "    <tr>\n",
       "      <th>3</th>\n",
       "      <td>7</td>\n",
       "      <td>Witch Hunter Robin</td>\n",
       "      <td>7.36</td>\n",
       "      <td>2169</td>\n",
       "      <td>64905</td>\n",
       "    </tr>\n",
       "    <tr>\n",
       "      <th>4</th>\n",
       "      <td>8</td>\n",
       "      <td>Beet the Vandel Buster</td>\n",
       "      <td>7.06</td>\n",
       "      <td>308</td>\n",
       "      <td>9848</td>\n",
       "    </tr>\n",
       "  </tbody>\n",
       "</table>\n",
       "</div>"
      ],
      "text/plain": [
       "   anime_id                             name  rating  review_count  members\n",
       "0         1                     Cowboy Bebop    8.82         13449   486824\n",
       "1         5  Cowboy Bebop: Tengoku no Tobira    8.40          5790   137636\n",
       "2         6                           Trigun    8.32          9385   283069\n",
       "3         7               Witch Hunter Robin    7.36          2169    64905\n",
       "4         8           Beet the Vandel Buster    7.06           308     9848"
      ]
     },
     "execution_count": 61,
     "metadata": {},
     "output_type": "execute_result"
    }
   ],
   "source": [
    "# Extract anime_id, rating, review_count & members for each one\n",
    "weighted_data = data.groupby('anime_id')[['name', 'rating', 'review_count', 'members']].max().reset_index()\n",
    "weighted_data.head()"
   ]
  },
  {
   "cell_type": "code",
   "execution_count": 64,
   "id": "ceb16065",
   "metadata": {},
   "outputs": [
    {
     "data": {
      "text/html": [
       "<div>\n",
       "<style scoped>\n",
       "    .dataframe tbody tr th:only-of-type {\n",
       "        vertical-align: middle;\n",
       "    }\n",
       "\n",
       "    .dataframe tbody tr th {\n",
       "        vertical-align: top;\n",
       "    }\n",
       "\n",
       "    .dataframe thead th {\n",
       "        text-align: right;\n",
       "    }\n",
       "</style>\n",
       "<table border=\"1\" class=\"dataframe\">\n",
       "  <thead>\n",
       "    <tr style=\"text-align: right;\">\n",
       "      <th></th>\n",
       "      <th>anime_id</th>\n",
       "      <th>name</th>\n",
       "      <th>rating</th>\n",
       "      <th>review_count</th>\n",
       "      <th>members</th>\n",
       "      <th>weighted_average</th>\n",
       "    </tr>\n",
       "  </thead>\n",
       "  <tbody>\n",
       "    <tr>\n",
       "      <th>0</th>\n",
       "      <td>1</td>\n",
       "      <td>Cowboy Bebop</td>\n",
       "      <td>8.82</td>\n",
       "      <td>13449</td>\n",
       "      <td>486824</td>\n",
       "      <td>8.810598</td>\n",
       "    </tr>\n",
       "    <tr>\n",
       "      <th>1</th>\n",
       "      <td>5</td>\n",
       "      <td>Cowboy Bebop: Tengoku no Tobira</td>\n",
       "      <td>8.40</td>\n",
       "      <td>5790</td>\n",
       "      <td>137636</td>\n",
       "      <td>8.382377</td>\n",
       "    </tr>\n",
       "    <tr>\n",
       "      <th>2</th>\n",
       "      <td>6</td>\n",
       "      <td>Trigun</td>\n",
       "      <td>8.32</td>\n",
       "      <td>9385</td>\n",
       "      <td>283069</td>\n",
       "      <td>8.309570</td>\n",
       "    </tr>\n",
       "    <tr>\n",
       "      <th>3</th>\n",
       "      <td>7</td>\n",
       "      <td>Witch Hunter Robin</td>\n",
       "      <td>7.36</td>\n",
       "      <td>2169</td>\n",
       "      <td>64905</td>\n",
       "      <td>7.340342</td>\n",
       "    </tr>\n",
       "    <tr>\n",
       "      <th>4</th>\n",
       "      <td>8</td>\n",
       "      <td>Beet the Vandel Buster</td>\n",
       "      <td>7.06</td>\n",
       "      <td>308</td>\n",
       "      <td>9848</td>\n",
       "      <td>6.986961</td>\n",
       "    </tr>\n",
       "  </tbody>\n",
       "</table>\n",
       "</div>"
      ],
      "text/plain": [
       "   anime_id                             name  rating  review_count  members  \\\n",
       "0         1                     Cowboy Bebop    8.82         13449   486824   \n",
       "1         5  Cowboy Bebop: Tengoku no Tobira    8.40          5790   137636   \n",
       "2         6                           Trigun    8.32          9385   283069   \n",
       "3         7               Witch Hunter Robin    7.36          2169    64905   \n",
       "4         8           Beet the Vandel Buster    7.06           308     9848   \n",
       "\n",
       "   weighted_average  \n",
       "0          8.810598  \n",
       "1          8.382377  \n",
       "2          8.309570  \n",
       "3          7.340342  \n",
       "4          6.986961  "
      ]
     },
     "execution_count": 64,
     "metadata": {},
     "output_type": "execute_result"
    }
   ],
   "source": [
    "# Calculate all the components to calculate avg weighted rating\n",
    "v = weighted_data['review_count']\n",
    "R = weighted_data['rating']\n",
    "C = weighted_data['rating'].mean()\n",
    "m = weighted_data['review_count'].quantile(0.50)\n",
    "\n",
    "weighted_data['weighted_average'] = ((R*v) + (C*m)) / (v+m)\n",
    "weighted_data.head()"
   ]
  },
  {
   "cell_type": "code",
   "execution_count": 69,
   "id": "107c8784",
   "metadata": {},
   "outputs": [
    {
     "data": {
      "text/plain": [
       "Text(0, 0.5, 'Anime')"
      ]
     },
     "execution_count": 69,
     "metadata": {},
     "output_type": "execute_result"
    },
    {
     "data": {
      "image/png": "[encoded data removed]",
      "text/plain": [
       "<Figure size 840x360 with 1 Axes>"
      ]
     },
     "metadata": {
      "needs_background": "light"
     },
     "output_type": "display_data"
    }
   ],
   "source": [
    "weighted_average = weighted_data.sort_values('weighted_average', ascending=False)\n",
    "\n",
    "ax = sns.barplot(data=weighted_average, x=weighted_average['weighted_average'].head(10), \n",
    "                 y=weighted_average['name'].head(10))\n",
    "plt.title('Best Anime by average votes')\n",
    "plt.xlabel('Weighted Average Score')\n",
    "plt.ylabel('Anime')"
   ]
  },
  {
   "cell_type": "markdown",
   "id": "84546444",
   "metadata": {},
   "source": [
    "#### Insights:\n",
    "    So top recommendations based on weighted average rating are Kimi no Na wa and Fullmetal Alchemist..."
   ]
  },
  {
   "cell_type": "markdown",
   "id": "3f836730",
   "metadata": {},
   "source": [
    "#### Recommendation by Popularity"
   ]
  },
  {
   "cell_type": "code",
   "execution_count": 70,
   "id": "6938f921",
   "metadata": {},
   "outputs": [
    {
     "data": {
      "text/plain": [
       "Text(0, 0.5, 'Anime')"
      ]
     },
     "execution_count": 70,
     "metadata": {},
     "output_type": "execute_result"
    },
    {
     "data": {
      "image/png": "[encoded data removed]",
      "text/plain": [
       "<Figure size 840x360 with 1 Axes>"
      ]
     },
     "metadata": {
      "needs_background": "light"
     },
     "output_type": "display_data"
    }
   ],
   "source": [
    "popularity_ranking = weighted_data.sort_values('members', ascending=False)\n",
    "\n",
    "ax = sns.barplot(data=popularity_ranking, x=popularity_ranking['members'].head(10), \n",
    "                 y=popularity_ranking['name'].head(10))\n",
    "plt.title('Best Anime by Popularity')\n",
    "plt.xlabel('Weighted Average Score')\n",
    "plt.ylabel('Anime')"
   ]
  },
  {
   "cell_type": "markdown",
   "id": "b2c47870",
   "metadata": {},
   "source": [
    "#### Insights:\n",
    "    So top recommendations based on popularity are Death Note and Shingeki no ..."
   ]
  },
  {
   "cell_type": "markdown",
   "id": "af2cd8ce",
   "metadata": {},
   "source": [
    "#### Recommendation by Average weighted and popularity"
   ]
  },
  {
   "cell_type": "code",
   "execution_count": 73,
   "id": "38e8d999",
   "metadata": {},
   "outputs": [
    {
     "data": {
      "text/html": [
       "<div>\n",
       "<style scoped>\n",
       "    .dataframe tbody tr th:only-of-type {\n",
       "        vertical-align: middle;\n",
       "    }\n",
       "\n",
       "    .dataframe tbody tr th {\n",
       "        vertical-align: top;\n",
       "    }\n",
       "\n",
       "    .dataframe thead th {\n",
       "        text-align: right;\n",
       "    }\n",
       "</style>\n",
       "<table border=\"1\" class=\"dataframe\">\n",
       "  <thead>\n",
       "    <tr style=\"text-align: right;\">\n",
       "      <th></th>\n",
       "      <th>weighted_average</th>\n",
       "      <th>members</th>\n",
       "    </tr>\n",
       "  </thead>\n",
       "  <tbody>\n",
       "    <tr>\n",
       "      <th>0</th>\n",
       "      <td>0.928206</td>\n",
       "      <td>0.480125</td>\n",
       "    </tr>\n",
       "    <tr>\n",
       "      <th>1</th>\n",
       "      <td>0.864282</td>\n",
       "      <td>0.135719</td>\n",
       "    </tr>\n",
       "    <tr>\n",
       "      <th>2</th>\n",
       "      <td>0.853413</td>\n",
       "      <td>0.279160</td>\n",
       "    </tr>\n",
       "    <tr>\n",
       "      <th>3</th>\n",
       "      <td>0.708729</td>\n",
       "      <td>0.063984</td>\n",
       "    </tr>\n",
       "    <tr>\n",
       "      <th>4</th>\n",
       "      <td>0.655976</td>\n",
       "      <td>0.009681</td>\n",
       "    </tr>\n",
       "  </tbody>\n",
       "</table>\n",
       "</div>"
      ],
      "text/plain": [
       "   weighted_average   members\n",
       "0          0.928206  0.480125\n",
       "1          0.864282  0.135719\n",
       "2          0.853413  0.279160\n",
       "3          0.708729  0.063984\n",
       "4          0.655976  0.009681"
      ]
     },
     "execution_count": 73,
     "metadata": {},
     "output_type": "execute_result"
    }
   ],
   "source": [
    "from sklearn.preprocessing import MinMaxScaler\n",
    "\n",
    "scaler = MinMaxScaler()\n",
    "scaled_df = scaler.fit_transform(weighted_data[['weighted_average', 'members']])\n",
    "\n",
    "scaled_df = pd.DataFrame(scaled_df, columns=['weighted_average', 'members'])\n",
    "\n",
    "scaled_df.head()"
   ]
  },
  {
   "cell_type": "code",
   "execution_count": 76,
   "id": "9081a138",
   "metadata": {},
   "outputs": [
    {
     "data": {
      "text/html": [
       "<div>\n",
       "<style scoped>\n",
       "    .dataframe tbody tr th:only-of-type {\n",
       "        vertical-align: middle;\n",
       "    }\n",
       "\n",
       "    .dataframe tbody tr th {\n",
       "        vertical-align: top;\n",
       "    }\n",
       "\n",
       "    .dataframe thead th {\n",
       "        text-align: right;\n",
       "    }\n",
       "</style>\n",
       "<table border=\"1\" class=\"dataframe\">\n",
       "  <thead>\n",
       "    <tr style=\"text-align: right;\">\n",
       "      <th></th>\n",
       "      <th>anime_id</th>\n",
       "      <th>name</th>\n",
       "      <th>rating</th>\n",
       "      <th>review_count</th>\n",
       "      <th>members</th>\n",
       "      <th>weighted_average</th>\n",
       "      <th>normalized_weight_average</th>\n",
       "      <th>normalized_members</th>\n",
       "    </tr>\n",
       "  </thead>\n",
       "  <tbody>\n",
       "    <tr>\n",
       "      <th>0</th>\n",
       "      <td>1</td>\n",
       "      <td>Cowboy Bebop</td>\n",
       "      <td>8.82</td>\n",
       "      <td>13449</td>\n",
       "      <td>486824</td>\n",
       "      <td>8.810598</td>\n",
       "      <td>0.928206</td>\n",
       "      <td>0.480125</td>\n",
       "    </tr>\n",
       "    <tr>\n",
       "      <th>1</th>\n",
       "      <td>5</td>\n",
       "      <td>Cowboy Bebop: Tengoku no Tobira</td>\n",
       "      <td>8.40</td>\n",
       "      <td>5790</td>\n",
       "      <td>137636</td>\n",
       "      <td>8.382377</td>\n",
       "      <td>0.864282</td>\n",
       "      <td>0.135719</td>\n",
       "    </tr>\n",
       "    <tr>\n",
       "      <th>2</th>\n",
       "      <td>6</td>\n",
       "      <td>Trigun</td>\n",
       "      <td>8.32</td>\n",
       "      <td>9385</td>\n",
       "      <td>283069</td>\n",
       "      <td>8.309570</td>\n",
       "      <td>0.853413</td>\n",
       "      <td>0.279160</td>\n",
       "    </tr>\n",
       "    <tr>\n",
       "      <th>3</th>\n",
       "      <td>7</td>\n",
       "      <td>Witch Hunter Robin</td>\n",
       "      <td>7.36</td>\n",
       "      <td>2169</td>\n",
       "      <td>64905</td>\n",
       "      <td>7.340342</td>\n",
       "      <td>0.708729</td>\n",
       "      <td>0.063984</td>\n",
       "    </tr>\n",
       "    <tr>\n",
       "      <th>4</th>\n",
       "      <td>8</td>\n",
       "      <td>Beet the Vandel Buster</td>\n",
       "      <td>7.06</td>\n",
       "      <td>308</td>\n",
       "      <td>9848</td>\n",
       "      <td>6.986961</td>\n",
       "      <td>0.655976</td>\n",
       "      <td>0.009681</td>\n",
       "    </tr>\n",
       "  </tbody>\n",
       "</table>\n",
       "</div>"
      ],
      "text/plain": [
       "   anime_id                             name  rating  review_count  members  \\\n",
       "0         1                     Cowboy Bebop    8.82         13449   486824   \n",
       "1         5  Cowboy Bebop: Tengoku no Tobira    8.40          5790   137636   \n",
       "2         6                           Trigun    8.32          9385   283069   \n",
       "3         7               Witch Hunter Robin    7.36          2169    64905   \n",
       "4         8           Beet the Vandel Buster    7.06           308     9848   \n",
       "\n",
       "   weighted_average  normalized_weight_average  normalized_members  \n",
       "0          8.810598                   0.928206            0.480125  \n",
       "1          8.382377                   0.864282            0.135719  \n",
       "2          8.309570                   0.853413            0.279160  \n",
       "3          7.340342                   0.708729            0.063984  \n",
       "4          6.986961                   0.655976            0.009681  "
      ]
     },
     "execution_count": 76,
     "metadata": {},
     "output_type": "execute_result"
    }
   ],
   "source": [
    "weighted_data[['normalized_weight_average', 'normalized_members']] = scaled_df\n",
    "\n",
    "weighted_data.head()"
   ]
  },
  {
   "cell_type": "code",
   "execution_count": 80,
   "id": "714b04cc",
   "metadata": {},
   "outputs": [
    {
     "data": {
      "text/html": [
       "<div>\n",
       "<style scoped>\n",
       "    .dataframe tbody tr th:only-of-type {\n",
       "        vertical-align: middle;\n",
       "    }\n",
       "\n",
       "    .dataframe tbody tr th {\n",
       "        vertical-align: top;\n",
       "    }\n",
       "\n",
       "    .dataframe thead th {\n",
       "        text-align: right;\n",
       "    }\n",
       "</style>\n",
       "<table border=\"1\" class=\"dataframe\">\n",
       "  <thead>\n",
       "    <tr style=\"text-align: right;\">\n",
       "      <th></th>\n",
       "      <th>anime_id</th>\n",
       "      <th>name</th>\n",
       "      <th>rating</th>\n",
       "      <th>review_count</th>\n",
       "      <th>members</th>\n",
       "      <th>weighted_average</th>\n",
       "      <th>normalized_weight_average</th>\n",
       "      <th>normalized_members</th>\n",
       "      <th>score</th>\n",
       "    </tr>\n",
       "  </thead>\n",
       "  <tbody>\n",
       "    <tr>\n",
       "      <th>1388</th>\n",
       "      <td>1535</td>\n",
       "      <td>Death Note</td>\n",
       "      <td>8.71</td>\n",
       "      <td>34226</td>\n",
       "      <td>1013917</td>\n",
       "      <td>8.706479</td>\n",
       "      <td>0.912663</td>\n",
       "      <td>1.000000</td>\n",
       "      <td>0.956331</td>\n",
       "    </tr>\n",
       "    <tr>\n",
       "      <th>3936</th>\n",
       "      <td>5114</td>\n",
       "      <td>Fullmetal Alchemist: Brotherhood</td>\n",
       "      <td>9.26</td>\n",
       "      <td>21494</td>\n",
       "      <td>793665</td>\n",
       "      <td>9.252944</td>\n",
       "      <td>0.994238</td>\n",
       "      <td>0.782764</td>\n",
       "      <td>0.888501</td>\n",
       "    </tr>\n",
       "    <tr>\n",
       "      <th>7058</th>\n",
       "      <td>16498</td>\n",
       "      <td>Shingeki no Kyojin</td>\n",
       "      <td>8.54</td>\n",
       "      <td>25289</td>\n",
       "      <td>896229</td>\n",
       "      <td>8.535620</td>\n",
       "      <td>0.887157</td>\n",
       "      <td>0.883924</td>\n",
       "      <td>0.885541</td>\n",
       "    </tr>\n",
       "    <tr>\n",
       "      <th>6322</th>\n",
       "      <td>11757</td>\n",
       "      <td>Sword Art Online</td>\n",
       "      <td>7.83</td>\n",
       "      <td>26310</td>\n",
       "      <td>893100</td>\n",
       "      <td>7.827324</td>\n",
       "      <td>0.781424</td>\n",
       "      <td>0.880837</td>\n",
       "      <td>0.831131</td>\n",
       "    </tr>\n",
       "    <tr>\n",
       "      <th>5517</th>\n",
       "      <td>9253</td>\n",
       "      <td>Steins;Gate</td>\n",
       "      <td>9.17</td>\n",
       "      <td>17151</td>\n",
       "      <td>673572</td>\n",
       "      <td>9.161462</td>\n",
       "      <td>0.980582</td>\n",
       "      <td>0.664316</td>\n",
       "      <td>0.822449</td>\n",
       "    </tr>\n",
       "  </tbody>\n",
       "</table>\n",
       "</div>"
      ],
      "text/plain": [
       "      anime_id                              name  rating  review_count  \\\n",
       "1388      1535                        Death Note    8.71         34226   \n",
       "3936      5114  Fullmetal Alchemist: Brotherhood    9.26         21494   \n",
       "7058     16498                Shingeki no Kyojin    8.54         25289   \n",
       "6322     11757                  Sword Art Online    7.83         26310   \n",
       "5517      9253                       Steins;Gate    9.17         17151   \n",
       "\n",
       "      members  weighted_average  normalized_weight_average  \\\n",
       "1388  1013917          8.706479                   0.912663   \n",
       "3936   793665          9.252944                   0.994238   \n",
       "7058   896229          8.535620                   0.887157   \n",
       "6322   893100          7.827324                   0.781424   \n",
       "5517   673572          9.161462                   0.980582   \n",
       "\n",
       "      normalized_members     score  \n",
       "1388            1.000000  0.956331  \n",
       "3936            0.782764  0.888501  \n",
       "7058            0.883924  0.885541  \n",
       "6322            0.880837  0.831131  \n",
       "5517            0.664316  0.822449  "
      ]
     },
     "execution_count": 80,
     "metadata": {},
     "output_type": "execute_result"
    }
   ],
   "source": [
    "# Generate score by giving equal weight to popularity & weighted avg\n",
    "weighted_data['score'] = ( weighted_data['normalized_weight_average'] + weighted_data['normalized_members'] ) / 2\n",
    "\n",
    "weighted_data.sort_values(['score'], ascending=False).head()"
   ]
  },
  {
   "cell_type": "code",
   "execution_count": 81,
   "id": "aaf829f8",
   "metadata": {},
   "outputs": [
    {
     "data": {
      "text/plain": [
       "Text(0, 0.5, 'Anime')"
      ]
     },
     "execution_count": 81,
     "metadata": {},
     "output_type": "execute_result"
    },
    {
     "data": {
      "image/png": "[encoded data removed]",
      "text/plain": [
       "<Figure size 840x360 with 1 Axes>"
      ]
     },
     "metadata": {
      "needs_background": "light"
     },
     "output_type": "display_data"
    }
   ],
   "source": [
    "scored_data = weighted_data.sort_values(['score'], ascending=False)\n",
    "\n",
    "ax = sns.barplot(data=scored_data, x=scored_data['score'].head(10), \n",
    "                 y=scored_data['name'].head(10))\n",
    "plt.title('Best Anime by Popularity & Rating')\n",
    "plt.xlabel('Score')\n",
    "plt.ylabel('Anime')"
   ]
  },
  {
   "cell_type": "markdown",
   "id": "c4e19627",
   "metadata": {},
   "source": [
    "Normally, recommendation models relied on simple factors such as average rating, popularity, number of votes. However, to improve viewer experience, future recommemdation models will take into user account ratings of anime. This personalized approach will enable us to recommend anime base on individual preferences, thereby imporving the overall viewer satisfaction and engagement"
   ]
  },
  {
   "cell_type": "markdown",
   "id": "4c926195",
   "metadata": {},
   "source": [
    "### Collaborative Filtering\n",
    "\n",
    "Now create a matrix that has the user id on one access and anime title on another axis. Each cell will consist of user rating to that anime. Note that will have a lot of NaN values, because most ppl have not seen most of anime. "
   ]
  },
  {
   "cell_type": "code",
   "execution_count": 82,
   "id": "949b2eba",
   "metadata": {},
   "outputs": [
    {
     "data": {
      "text/html": [
       "<div>\n",
       "<style scoped>\n",
       "    .dataframe tbody tr th:only-of-type {\n",
       "        vertical-align: middle;\n",
       "    }\n",
       "\n",
       "    .dataframe tbody tr th {\n",
       "        vertical-align: top;\n",
       "    }\n",
       "\n",
       "    .dataframe thead th {\n",
       "        text-align: right;\n",
       "    }\n",
       "</style>\n",
       "<table border=\"1\" class=\"dataframe\">\n",
       "  <thead>\n",
       "    <tr style=\"text-align: right;\">\n",
       "      <th>name</th>\n",
       "      <th>0</th>\n",
       "      <th>001</th>\n",
       "      <th>009 Re:Cyborg</th>\n",
       "      <th>009-1</th>\n",
       "      <th>009-1: RandB</th>\n",
       "      <th>00:08</th>\n",
       "      <th>07-Ghost</th>\n",
       "      <th>1+2=Paradise</th>\n",
       "      <th>100%</th>\n",
       "      <th>100-man-nen Chikyuu no Tabi: Bander Book</th>\n",
       "      <th>...</th>\n",
       "      <th>lilac (bombs Jun Togawa)</th>\n",
       "      <th>makemagic</th>\n",
       "      <th>s.CRY.ed</th>\n",
       "      <th>vivi</th>\n",
       "      <th>xxxHOLiC</th>\n",
       "      <th>xxxHOLiC Kei</th>\n",
       "      <th>xxxHOLiC Movie: Manatsu no Yoru no Yume</th>\n",
       "      <th>xxxHOLiC Rou</th>\n",
       "      <th>xxxHOLiC Shunmuki</th>\n",
       "      <th>◯</th>\n",
       "    </tr>\n",
       "    <tr>\n",
       "      <th>user_id</th>\n",
       "      <th></th>\n",
       "      <th></th>\n",
       "      <th></th>\n",
       "      <th></th>\n",
       "      <th></th>\n",
       "      <th></th>\n",
       "      <th></th>\n",
       "      <th></th>\n",
       "      <th></th>\n",
       "      <th></th>\n",
       "      <th></th>\n",
       "      <th></th>\n",
       "      <th></th>\n",
       "      <th></th>\n",
       "      <th></th>\n",
       "      <th></th>\n",
       "      <th></th>\n",
       "      <th></th>\n",
       "      <th></th>\n",
       "      <th></th>\n",
       "      <th></th>\n",
       "    </tr>\n",
       "  </thead>\n",
       "  <tbody>\n",
       "    <tr>\n",
       "      <th>1</th>\n",
       "      <td>NaN</td>\n",
       "      <td>NaN</td>\n",
       "      <td>NaN</td>\n",
       "      <td>NaN</td>\n",
       "      <td>NaN</td>\n",
       "      <td>NaN</td>\n",
       "      <td>NaN</td>\n",
       "      <td>NaN</td>\n",
       "      <td>NaN</td>\n",
       "      <td>NaN</td>\n",
       "      <td>...</td>\n",
       "      <td>NaN</td>\n",
       "      <td>NaN</td>\n",
       "      <td>NaN</td>\n",
       "      <td>NaN</td>\n",
       "      <td>NaN</td>\n",
       "      <td>NaN</td>\n",
       "      <td>NaN</td>\n",
       "      <td>NaN</td>\n",
       "      <td>NaN</td>\n",
       "      <td>NaN</td>\n",
       "    </tr>\n",
       "    <tr>\n",
       "      <th>2</th>\n",
       "      <td>NaN</td>\n",
       "      <td>NaN</td>\n",
       "      <td>NaN</td>\n",
       "      <td>NaN</td>\n",
       "      <td>NaN</td>\n",
       "      <td>NaN</td>\n",
       "      <td>NaN</td>\n",
       "      <td>NaN</td>\n",
       "      <td>NaN</td>\n",
       "      <td>NaN</td>\n",
       "      <td>...</td>\n",
       "      <td>NaN</td>\n",
       "      <td>NaN</td>\n",
       "      <td>NaN</td>\n",
       "      <td>NaN</td>\n",
       "      <td>NaN</td>\n",
       "      <td>NaN</td>\n",
       "      <td>NaN</td>\n",
       "      <td>NaN</td>\n",
       "      <td>NaN</td>\n",
       "      <td>NaN</td>\n",
       "    </tr>\n",
       "    <tr>\n",
       "      <th>3</th>\n",
       "      <td>NaN</td>\n",
       "      <td>NaN</td>\n",
       "      <td>NaN</td>\n",
       "      <td>NaN</td>\n",
       "      <td>NaN</td>\n",
       "      <td>NaN</td>\n",
       "      <td>NaN</td>\n",
       "      <td>NaN</td>\n",
       "      <td>NaN</td>\n",
       "      <td>NaN</td>\n",
       "      <td>...</td>\n",
       "      <td>NaN</td>\n",
       "      <td>NaN</td>\n",
       "      <td>NaN</td>\n",
       "      <td>NaN</td>\n",
       "      <td>NaN</td>\n",
       "      <td>NaN</td>\n",
       "      <td>NaN</td>\n",
       "      <td>NaN</td>\n",
       "      <td>NaN</td>\n",
       "      <td>NaN</td>\n",
       "    </tr>\n",
       "    <tr>\n",
       "      <th>5</th>\n",
       "      <td>NaN</td>\n",
       "      <td>NaN</td>\n",
       "      <td>NaN</td>\n",
       "      <td>NaN</td>\n",
       "      <td>NaN</td>\n",
       "      <td>NaN</td>\n",
       "      <td>NaN</td>\n",
       "      <td>NaN</td>\n",
       "      <td>NaN</td>\n",
       "      <td>NaN</td>\n",
       "      <td>...</td>\n",
       "      <td>NaN</td>\n",
       "      <td>NaN</td>\n",
       "      <td>NaN</td>\n",
       "      <td>NaN</td>\n",
       "      <td>2.0</td>\n",
       "      <td>NaN</td>\n",
       "      <td>NaN</td>\n",
       "      <td>NaN</td>\n",
       "      <td>NaN</td>\n",
       "      <td>NaN</td>\n",
       "    </tr>\n",
       "    <tr>\n",
       "      <th>7</th>\n",
       "      <td>NaN</td>\n",
       "      <td>NaN</td>\n",
       "      <td>NaN</td>\n",
       "      <td>NaN</td>\n",
       "      <td>NaN</td>\n",
       "      <td>NaN</td>\n",
       "      <td>NaN</td>\n",
       "      <td>NaN</td>\n",
       "      <td>NaN</td>\n",
       "      <td>NaN</td>\n",
       "      <td>...</td>\n",
       "      <td>NaN</td>\n",
       "      <td>NaN</td>\n",
       "      <td>NaN</td>\n",
       "      <td>NaN</td>\n",
       "      <td>NaN</td>\n",
       "      <td>NaN</td>\n",
       "      <td>NaN</td>\n",
       "      <td>NaN</td>\n",
       "      <td>NaN</td>\n",
       "      <td>NaN</td>\n",
       "    </tr>\n",
       "  </tbody>\n",
       "</table>\n",
       "<p>5 rows × 9887 columns</p>\n",
       "</div>"
      ],
      "text/plain": [
       "name      0  001  009 Re:Cyborg  009-1  009-1: RandB  00:08  07-Ghost  \\\n",
       "user_id                                                                 \n",
       "1       NaN  NaN            NaN    NaN           NaN    NaN       NaN   \n",
       "2       NaN  NaN            NaN    NaN           NaN    NaN       NaN   \n",
       "3       NaN  NaN            NaN    NaN           NaN    NaN       NaN   \n",
       "5       NaN  NaN            NaN    NaN           NaN    NaN       NaN   \n",
       "7       NaN  NaN            NaN    NaN           NaN    NaN       NaN   \n",
       "\n",
       "name     1+2=Paradise  100%  100-man-nen Chikyuu no Tabi: Bander Book  ...  \\\n",
       "user_id                                                                ...   \n",
       "1                 NaN   NaN                                       NaN  ...   \n",
       "2                 NaN   NaN                                       NaN  ...   \n",
       "3                 NaN   NaN                                       NaN  ...   \n",
       "5                 NaN   NaN                                       NaN  ...   \n",
       "7                 NaN   NaN                                       NaN  ...   \n",
       "\n",
       "name     lilac (bombs Jun Togawa)  makemagic  s.CRY.ed  vivi  xxxHOLiC  \\\n",
       "user_id                                                                  \n",
       "1                             NaN        NaN       NaN   NaN       NaN   \n",
       "2                             NaN        NaN       NaN   NaN       NaN   \n",
       "3                             NaN        NaN       NaN   NaN       NaN   \n",
       "5                             NaN        NaN       NaN   NaN       2.0   \n",
       "7                             NaN        NaN       NaN   NaN       NaN   \n",
       "\n",
       "name     xxxHOLiC Kei  xxxHOLiC Movie: Manatsu no Yoru no Yume  xxxHOLiC Rou  \\\n",
       "user_id                                                                        \n",
       "1                 NaN                                      NaN           NaN   \n",
       "2                 NaN                                      NaN           NaN   \n",
       "3                 NaN                                      NaN           NaN   \n",
       "5                 NaN                                      NaN           NaN   \n",
       "7                 NaN                                      NaN           NaN   \n",
       "\n",
       "name     xxxHOLiC Shunmuki   ◯  \n",
       "user_id                         \n",
       "1                      NaN NaN  \n",
       "2                      NaN NaN  \n",
       "3                      NaN NaN  \n",
       "5                      NaN NaN  \n",
       "7                      NaN NaN  \n",
       "\n",
       "[5 rows x 9887 columns]"
      ]
     },
     "execution_count": 82,
     "metadata": {},
     "output_type": "execute_result"
    }
   ],
   "source": [
    "anime = data.pivot_table(index='user_id', columns='name', values='user_rating')\n",
    "anime.head()"
   ]
  },
  {
   "cell_type": "code",
   "execution_count": 83,
   "id": "3b8be632",
   "metadata": {},
   "outputs": [
    {
     "data": {
      "text/html": [
       "<div>\n",
       "<style scoped>\n",
       "    .dataframe tbody tr th:only-of-type {\n",
       "        vertical-align: middle;\n",
       "    }\n",
       "\n",
       "    .dataframe tbody tr th {\n",
       "        vertical-align: top;\n",
       "    }\n",
       "\n",
       "    .dataframe thead th {\n",
       "        text-align: right;\n",
       "    }\n",
       "</style>\n",
       "<table border=\"1\" class=\"dataframe\">\n",
       "  <thead>\n",
       "    <tr style=\"text-align: right;\">\n",
       "      <th></th>\n",
       "      <th>anime_id</th>\n",
       "      <th>name</th>\n",
       "      <th>review_count</th>\n",
       "    </tr>\n",
       "  </thead>\n",
       "  <tbody>\n",
       "    <tr>\n",
       "      <th>1388</th>\n",
       "      <td>1535</td>\n",
       "      <td>Death Note</td>\n",
       "      <td>34226</td>\n",
       "    </tr>\n",
       "    <tr>\n",
       "      <th>6322</th>\n",
       "      <td>11757</td>\n",
       "      <td>Sword Art Online</td>\n",
       "      <td>26310</td>\n",
       "    </tr>\n",
       "    <tr>\n",
       "      <th>7058</th>\n",
       "      <td>16498</td>\n",
       "      <td>Shingeki no Kyojin</td>\n",
       "      <td>25289</td>\n",
       "    </tr>\n",
       "    <tr>\n",
       "      <th>1426</th>\n",
       "      <td>1575</td>\n",
       "      <td>Code Geass: Hangyaku no Lelouch</td>\n",
       "      <td>24126</td>\n",
       "    </tr>\n",
       "    <tr>\n",
       "      <th>4567</th>\n",
       "      <td>6547</td>\n",
       "      <td>Angel Beats!</td>\n",
       "      <td>23565</td>\n",
       "    </tr>\n",
       "    <tr>\n",
       "      <th>201</th>\n",
       "      <td>226</td>\n",
       "      <td>Elfen Lied</td>\n",
       "      <td>23528</td>\n",
       "    </tr>\n",
       "    <tr>\n",
       "      <th>10</th>\n",
       "      <td>20</td>\n",
       "      <td>Naruto</td>\n",
       "      <td>22071</td>\n",
       "    </tr>\n",
       "    <tr>\n",
       "      <th>3936</th>\n",
       "      <td>5114</td>\n",
       "      <td>Fullmetal Alchemist: Brotherhood</td>\n",
       "      <td>21494</td>\n",
       "    </tr>\n",
       "    <tr>\n",
       "      <th>99</th>\n",
       "      <td>121</td>\n",
       "      <td>Fullmetal Alchemist</td>\n",
       "      <td>21332</td>\n",
       "    </tr>\n",
       "    <tr>\n",
       "      <th>2642</th>\n",
       "      <td>2904</td>\n",
       "      <td>Code Geass: Hangyaku no Lelouch R2</td>\n",
       "      <td>21124</td>\n",
       "    </tr>\n",
       "  </tbody>\n",
       "</table>\n",
       "</div>"
      ],
      "text/plain": [
       "      anime_id                                name  review_count\n",
       "1388      1535                          Death Note         34226\n",
       "6322     11757                    Sword Art Online         26310\n",
       "7058     16498                  Shingeki no Kyojin         25289\n",
       "1426      1575     Code Geass: Hangyaku no Lelouch         24126\n",
       "4567      6547                        Angel Beats!         23565\n",
       "201        226                          Elfen Lied         23528\n",
       "10          20                              Naruto         22071\n",
       "3936      5114    Fullmetal Alchemist: Brotherhood         21494\n",
       "99         121                 Fullmetal Alchemist         21332\n",
       "2642      2904  Code Geass: Hangyaku no Lelouch R2         21124"
      ]
     },
     "execution_count": 83,
     "metadata": {},
     "output_type": "execute_result"
    }
   ],
   "source": [
    "# Most rated anime\n",
    "weighted_data.sort_values('review_count', ascending=False)[['anime_id', 'name', 'review_count']].head(10)"
   ]
  },
  {
   "cell_type": "code",
   "execution_count": null,
   "id": "20073a42",
   "metadata": {},
   "outputs": [],
   "source": []
  },
  {
   "cell_type": "code",
   "execution_count": null,
   "id": "87210c95",
   "metadata": {},
   "outputs": [],
   "source": []
  }
 ],
 "metadata": {
  "kernelspec": {
   "display_name": "Python 3 (ipykernel)",
   "language": "python",
   "name": "python3"
  },
  "language_info": {
   "codemirror_mode": {
    "name": "ipython",
    "version": 3
   },
   "file_extension": ".py",
   "mimetype": "text/x-python",
   "name": "python",
   "nbconvert_exporter": "python",
   "pygments_lexer": "ipython3",
   "version": "3.9.12"
  }
 },
 "nbformat": 4,
 "nbformat_minor": 5
}
